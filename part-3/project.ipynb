{
 "cells": [
  {
   "cell_type": "markdown",
   "id": "0535dd1c",
   "metadata": {},
   "source": [
    "# Part 3 project: Mandelbrot set"
   ]
  },
  {
   "cell_type": "code",
   "execution_count": null,
   "id": "76395bc3",
   "metadata": {},
   "outputs": [],
   "source": [
    "# NumPy\n",
    "import numpy as np\n",
    "\n",
    "# JAX\n",
    "import jax\n",
    "import jax.numpy as jnp\n",
    "\n",
    "jax.config.update(\"jax_platform_name\", \"cpu\")\n",
    "jax.config.update(\"jax_enable_x64\", True)\n",
    "\n",
    "# Numba\n",
    "import numba as nb\n",
    "\n",
    "# Matplotlib\n",
    "import matplotlib\n",
    "import matplotlib.pyplot as plt"
   ]
  },
  {
   "cell_type": "markdown",
   "id": "ba56b1c5",
   "metadata": {},
   "source": [
    "### Basic Python Implementation"
   ]
  },
  {
   "cell_type": "code",
   "execution_count": null,
   "id": "3985704f",
   "metadata": {},
   "outputs": [],
   "source": [
    "def mandelbrot_python(height, width):\n",
    "  y, x = np.ogrid[-1:0:height*1j, -1.5:0:width*1j]\n",
    "  c = x + y*1j\n",
    "  fractal = np.full(c.shape, 20, dtype=np.int32)\n",
    "  for h in range(height):\n",
    "    for w in range(width):            # for each pixel (h, w)...\n",
    "      z = c[h, w]\n",
    "      for i in range(20):             # iterate at most 20 times\n",
    "        z = z**2 + c[h, w]            # applying z → z² + c\n",
    "        if abs(z) > 2:                # if it diverges (|z| > 2)\n",
    "          fractal[h, w] = i           # color the plane with the iteration number\n",
    "          break                       # we're done, no need to keep iterating\n",
    "  return fractal"
   ]
  },
  {
   "cell_type": "code",
   "execution_count": null,
   "id": "34dee4a8",
   "metadata": {},
   "outputs": [],
   "source": [
    "fig, ax = plt.subplots(1, 1, figsize=(15, 10))\n",
    "ax.imshow(mandelbrot_python(200, 200))"
   ]
  },
  {
   "cell_type": "code",
   "execution_count": null,
   "id": "4b7d526c",
   "metadata": {},
   "outputs": [],
   "source": [
    "%%timeit -n 10 -r 3\n",
    "\n",
    "mandelbrot_python(200, 200)"
   ]
  },
  {
   "cell_type": "code",
   "execution_count": null,
   "id": "929dd634",
   "metadata": {},
   "outputs": [],
   "source": [
    "%%timeit -n 1 -r 1\n",
    "\n",
    "mandelbrot_python(2000, 2000)"
   ]
  },
  {
   "cell_type": "markdown",
   "id": "3a053606",
   "metadata": {},
   "source": [
    "Oh no, this calculation scales with $height \\times width$ ($\\mathcal{O}(N^2)$)!\n",
    "\n",
    "Let's switch from Python to NumPy:"
   ]
  },
  {
   "cell_type": "code",
   "execution_count": null,
   "id": "cee57d9a",
   "metadata": {},
   "outputs": [],
   "source": [
    "def mandelbrot_numpy(height, width):\n",
    "    y, x = np.ogrid[-1:0:height*1j, -1.5:0:width*1j]\n",
    "    c = x + y*1j\n",
    "    fractal = np.full(c.shape, 20, dtype=np.int32)\n",
    "    z = c\n",
    "    for i in range(20):\n",
    "        z = z**2 + c                                 # applying z → z² + c\n",
    "        diverged = z.real**2 + z.imag**2 > 4         # |z| > 2 is \"divergence\"\n",
    "        diverging_now = diverged & (fractal == 20)   # some are already done\n",
    "        fractal[diverging_now] = i                   # just set the new ones\n",
    "        z[diverged] = 2                              # clamp diverged at 2\n",
    "    return fractal"
   ]
  },
  {
   "cell_type": "code",
   "execution_count": null,
   "id": "ceb1d33b",
   "metadata": {},
   "outputs": [],
   "source": [
    "fig, ax = plt.subplots(1, 1, figsize=(15, 10))\n",
    "ax.imshow(mandelbrot_numpy(200, 200))"
   ]
  },
  {
   "cell_type": "code",
   "execution_count": null,
   "id": "943de222",
   "metadata": {},
   "outputs": [],
   "source": [
    "%%timeit -n 10 -r 3\n",
    "\n",
    "mandelbrot_numpy(200, 200)"
   ]
  },
  {
   "cell_type": "code",
   "execution_count": null,
   "id": "9a2053bf",
   "metadata": {},
   "outputs": [],
   "source": [
    "%%timeit -n 1 -r 1\n",
    "\n",
    "mandelbrot_numpy(2000, 2000)"
   ]
  },
  {
   "cell_type": "markdown",
   "id": "fc5b8867",
   "metadata": {},
   "source": [
    "Much better, but can it be even _faster_?"
   ]
  },
  {
   "cell_type": "markdown",
   "id": "64dce02f",
   "metadata": {},
   "source": [
    "### Your task\n",
    "\n",
    "Find a faster solution to calculate this patch of the mandelbrot set in:\n",
    "\n",
    "1. JAX\n",
    "2. Numba\n",
    "\n",
    "\n",
    "#### Bonus task\n",
    "\n",
    "What's the highest resolution you can achieve that takes less than 1s?"
   ]
  }
 ],
 "metadata": {
  "kernelspec": {
   "display_name": "default",
   "language": "python",
   "name": "python3"
  },
  "language_info": {
   "codemirror_mode": {
    "name": "ipython",
    "version": 3
   },
   "file_extension": ".py",
   "mimetype": "text/x-python",
   "name": "python",
   "nbconvert_exporter": "python",
   "pygments_lexer": "ipython3",
   "version": "3.13.5"
  }
 },
 "nbformat": 4,
 "nbformat_minor": 5
}
