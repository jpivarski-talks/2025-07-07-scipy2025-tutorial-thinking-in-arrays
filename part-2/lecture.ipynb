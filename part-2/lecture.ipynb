{
 "cells": [
  {
   "cell_type": "markdown",
   "id": "52506e44-0e8c-4ac0-8de7-644b08ca0ede",
   "metadata": {},
   "source": [
    "# Part 2: Limits of array-oriented programming"
   ]
  },
  {
   "cell_type": "markdown",
   "id": "bf705a33-e366-481c-963a-5e8ff2571e33",
   "metadata": {},
   "source": [
    "Now that we've seen the advantages of array-oriented programming, let's consider its disadvantages."
   ]
  },
  {
   "cell_type": "markdown",
   "id": "f35802e8-7c9d-473f-b962-66dec6a87652",
   "metadata": {},
   "source": [
    "<br><br><br>"
   ]
  },
  {
   "cell_type": "markdown",
   "id": "4111319d-e3f5-480d-a93d-777e7310d854",
   "metadata": {},
   "source": [
    "## Performance"
   ]
  },
  {
   "cell_type": "markdown",
   "id": "b59eb1cb-576b-480e-b832-f247781673dc",
   "metadata": {},
   "source": [
    "Although computing a mathematical formula on millions of values is a lot faster with NumPy arrays than it is with Python scalars, it's not the fastest way to do it."
   ]
  },
  {
   "cell_type": "code",
   "execution_count": null,
   "id": "690e53fd-77d2-4e74-aba4-d38df4eaae1d",
   "metadata": {},
   "outputs": [],
   "source": [
    "import numpy as np\n",
    "import numexpr as ne"
   ]
  },
  {
   "cell_type": "markdown",
   "id": "91b5e637-0f45-4260-a7ce-c3ce9d5bdbfc",
   "metadata": {},
   "source": [
    "Quadratic formula (one solution $x$ of $ax^2 + bx + c = 0$), just to have something to calculate:\n",
    "\n",
    "$$ x = \\frac{-b + \\sqrt{b^2 - 4ac}}{2a} $$"
   ]
  },
  {
   "cell_type": "code",
   "execution_count": null,
   "id": "0cf90f10-45f8-45e0-8801-5035dd20b0ad",
   "metadata": {
    "tags": []
   },
   "outputs": [],
   "source": [
    "def quadratic_formula(a, b, c):\n",
    "    return (-b + np.sqrt(b**2 - 4*a*c)) / (2*a)"
   ]
  },
  {
   "cell_type": "code",
   "execution_count": null,
   "id": "1442b84e-5565-4e73-8073-ac14e9b627a9",
   "metadata": {
    "tags": []
   },
   "outputs": [],
   "source": [
    "a = np.random.uniform(5, 10, 5_000_000)\n",
    "b = np.random.uniform(10, 20, 5_000_000)\n",
    "c = np.random.uniform(-0.1, 0.1, 5_000_000)"
   ]
  },
  {
   "cell_type": "markdown",
   "id": "87493c65-8ec9-46d0-9d94-fd39307a4a4c",
   "metadata": {},
   "source": [
    "<br><br><br>"
   ]
  },
  {
   "cell_type": "code",
   "execution_count": null,
   "id": "44ac0772-3ed7-4dac-a474-539d9599face",
   "metadata": {
    "tags": []
   },
   "outputs": [],
   "source": [
    "%%timeit -n1 -r3\n",
    "\n",
    "imperative = np.empty_like(c)\n",
    "for i, (ai, bi, ci) in enumerate(zip(a, b, c)):\n",
    "    imperative[i] = quadratic_formula(ai, bi, ci)"
   ]
  },
  {
   "cell_type": "code",
   "execution_count": null,
   "id": "39111e8d-134b-430a-8893-3435bba5023c",
   "metadata": {
    "tags": []
   },
   "outputs": [],
   "source": [
    "%%timeit -n1 -r3\n",
    "\n",
    "quadratic_formula(a, b, c)"
   ]
  },
  {
   "cell_type": "code",
   "execution_count": null,
   "id": "a354093e-c163-4ba8-a65b-69118a73095f",
   "metadata": {},
   "outputs": [],
   "source": [
    "%%timeit -n1 -r3\n",
    "\n",
    "ne.evaluate(\"(-b + sqrt(b**2 - 4*a*c)) / (2*a)\")"
   ]
  },
  {
   "cell_type": "markdown",
   "id": "ca510c37-c2ba-405d-9467-35dbe2ca8c3b",
   "metadata": {},
   "source": [
    "<br><br><br>"
   ]
  },
  {
   "cell_type": "markdown",
   "id": "0e9fd6ef-de9f-4c1f-9ea2-14ef0936b636",
   "metadata": {},
   "source": [
    "Why is NumPy so much slower than NumExpr?"
   ]
  },
  {
   "cell_type": "markdown",
   "id": "59cc8332-cece-4ce1-8d54-599fdd8a3cb5",
   "metadata": {},
   "source": [
    "<br><br><br>"
   ]
  },
  {
   "cell_type": "markdown",
   "id": "5f19513f-e23a-4749-b51f-8eb469361368",
   "metadata": {},
   "source": [
    "Each mathematical operation (`+`, `*`, `np.sqrt`) of the NumPy calculation performs that operation on the whole array before moving on to the next operation. If the arrays are larger than your CPU's L1, L2, and L3 caches, it will be forced to get the data from RAM, and memory transfers are usually slower than computing a whole mathematical formula.\n",
    "\n",
    "What NumPy is doing is almost like this:"
   ]
  },
  {
   "cell_type": "code",
   "execution_count": null,
   "id": "4d6bf1b3-fbad-4fa8-a5a8-df5fbaa3c458",
   "metadata": {
    "tags": []
   },
   "outputs": [],
   "source": [
    "def pedantic_quadratic_formula(a, b, c):\n",
    "    tmp1 = np.negative(b)            # -b\n",
    "    tmp2 = np.square(b)              # b**2\n",
    "    tmp3 = np.multiply(4, a)         # 4*a\n",
    "    tmp4 = np.multiply(tmp3, c)      # tmp3*c\n",
    "    del tmp3\n",
    "    tmp5 = np.subtract(tmp2, tmp4)   # tmp2 - tmp4\n",
    "    del tmp2, tmp4\n",
    "    tmp6 = np.sqrt(tmp5)             # sqrt(tmp5)\n",
    "    del tmp5\n",
    "    tmp7 = np.add(tmp1, tmp6)        # tmp1 + tmp6\n",
    "    del tmp1, tmp6\n",
    "    tmp8 = np.multiply(2, a)         # 2*a\n",
    "    return np.divide(tmp7, tmp8)     # tmp7 / tmp8"
   ]
  },
  {
   "cell_type": "markdown",
   "id": "e38358ab-46eb-487e-ac2a-00793fc10400",
   "metadata": {},
   "source": [
    "<br><br><br>"
   ]
  },
  {
   "cell_type": "markdown",
   "id": "9e90cb69-7d48-4481-8e57-2b0de987836e",
   "metadata": {},
   "source": [
    "Confirm with a performance test:"
   ]
  },
  {
   "cell_type": "code",
   "execution_count": null,
   "id": "d0ba590f-dfa5-4ae0-937f-3ebe66207af4",
   "metadata": {
    "tags": []
   },
   "outputs": [],
   "source": [
    "%%timeit -n1 -r3\n",
    "\n",
    "pedantic_quadratic_formula(a, b, c)"
   ]
  },
  {
   "cell_type": "code",
   "execution_count": null,
   "id": "592c9633-2459-4e68-aa9a-30fc7c276faf",
   "metadata": {
    "tags": []
   },
   "outputs": [],
   "source": [
    "%%timeit -n1 -r3\n",
    "\n",
    "quadratic_formula(a, b, c)"
   ]
  },
  {
   "cell_type": "markdown",
   "id": "2b1a92b0-ec97-4f03-aa92-2fb1587bb532",
   "metadata": {},
   "source": [
    "_(Caveat: NumPy is able to \"fuse\" some operations, so it's sometimes a little better than the completely \"unfused\" `pedantic_quadratic_formula`, but both of the above times are much slower than NumExpr.)_"
   ]
  },
  {
   "cell_type": "markdown",
   "id": "563b2cc6-8632-4169-9ac1-cac72d671490",
   "metadata": {},
   "source": [
    "<br><br><br>"
   ]
  },
  {
   "cell_type": "markdown",
   "id": "2f23a33b-830b-468b-832c-d9d88872cfb6",
   "metadata": {},
   "source": [
    "NumExpr, on the other hand, turns the `\"(-b + sqrt(b**2 - 4*a*c)) / (2*a)\"` expression into something that it can compute quickly (a virtual machine like Python, but a lower-overhead one that only does mathematical operations)."
   ]
  },
  {
   "cell_type": "markdown",
   "id": "e1c73d4f-222e-46a1-a098-54b0f863bb06",
   "metadata": {},
   "source": [
    "<br><br><br>"
   ]
  },
  {
   "cell_type": "markdown",
   "id": "5f7afe11-7c91-4cea-a3b4-518bc8be2425",
   "metadata": {},
   "source": [
    "We could go even further by actually compiling the expression using Numba:"
   ]
  },
  {
   "cell_type": "code",
   "execution_count": null,
   "id": "a41ca829-c76b-41ef-8090-96b1b31fcf84",
   "metadata": {},
   "outputs": [],
   "source": [
    "import numba as nb\n",
    "\n",
    "@nb.vectorize\n",
    "def numba_quadratic_formula(a, b, c):\n",
    "    return (-b + np.sqrt(b**2 - 4*a*c)) / (2*a)\n",
    "\n",
    "numba_quadratic_formula(a, b, c)"
   ]
  },
  {
   "cell_type": "code",
   "execution_count": null,
   "id": "6e495b6c-69f2-4467-a4e2-7fe2bdee5158",
   "metadata": {},
   "outputs": [],
   "source": [
    "%%timeit -n100 -r3\n",
    "\n",
    "numba_quadratic_formula(a, b, c)"
   ]
  },
  {
   "cell_type": "markdown",
   "id": "29689982-0a07-4876-9c12-82107622f8a9",
   "metadata": {},
   "source": [
    "<br><br><br>"
   ]
  },
  {
   "cell_type": "markdown",
   "id": "dda5bef4-475c-4fa4-bb53-9e76ad6962d1",
   "metadata": {},
   "source": [
    "Or compile it with JAX (we'll hear more about JAX):"
   ]
  },
  {
   "cell_type": "code",
   "execution_count": null,
   "id": "7c850596-6d37-483d-adf4-86fc6caecf8a",
   "metadata": {},
   "outputs": [],
   "source": [
    "import jax\n",
    "jax.config.update(\"jax_platform_name\", \"cpu\"); jax.config.update(\"jax_enable_x64\", True)\n",
    "\n",
    "@jax.jit\n",
    "def jax_quadratic_formula(a, b, c):\n",
    "    return (-b + jax.numpy.sqrt(b**2 - 4*a*c)) / (2*a)\n",
    "\n",
    "jax_quadratic_formula(a, b, c)"
   ]
  },
  {
   "cell_type": "code",
   "execution_count": null,
   "id": "51a0bf6b-3dd4-4373-b9e5-e30826eff5b5",
   "metadata": {},
   "outputs": [],
   "source": [
    "%%timeit -n100 -r3\n",
    "\n",
    "jax_quadratic_formula(a, b, c).block_until_ready()"
   ]
  },
  {
   "cell_type": "markdown",
   "id": "7ddb0c1f-b9cb-4713-88c6-dd31a4d3d9ff",
   "metadata": {},
   "source": [
    "<br><br><br>"
   ]
  },
  {
   "cell_type": "markdown",
   "id": "d91da74c-679f-4ec0-98c3-aea385fd5ea9",
   "metadata": {},
   "source": [
    "Let's make a scorecard:"
   ]
  },
  {
   "cell_type": "code",
   "execution_count": null,
   "id": "859c0f6c-e978-4a74-afd6-931c7401797a",
   "metadata": {},
   "outputs": [],
   "source": [
    "import matplotlib.pyplot as plt"
   ]
  },
  {
   "cell_type": "code",
   "execution_count": null,
   "id": "86763f95-59d4-4c6a-9b86-33ce19c5a5b3",
   "metadata": {},
   "outputs": [],
   "source": [
    "fig, ax = plt.subplots()\n",
    "\n",
    "scorecard = [\n",
    "    (\"Pure Python\",   10.5e0),\n",
    "    (\"Pedantic NumPy\", 149e-3),\n",
    "    (\"NumPy\",          144e-3),\n",
    "    (\"NumExpr\",       45.4e-3),\n",
    "    (\"Numba\",         21.3e-3),\n",
    "    (\"JAX\",            103e-3),\n",
    "]\n",
    "\n",
    "ax.barh([x for x, y in scorecard[::-1]], [y for x, y in scorecard[::-1]])\n",
    "ax.grid(axis=\"x\", ls=\":\", c=\"gray\")\n",
    "ax.set_axisbelow(True)\n",
    "ax.set_xscale(\"log\")\n",
    "ax.set_xlabel(\"time (seconds), smaller is better\")\n",
    "\n",
    "None"
   ]
  },
  {
   "cell_type": "markdown",
   "id": "999137a0-8a0e-4a92-ba0d-897e8d86818c",
   "metadata": {},
   "source": [
    "The exact results depend on many things, but there's a general pattern of NumPy being orders of magnitude faster than pure Python, while compiled, \"single-pass\" implementations are several times faster than NumPy."
   ]
  },
  {
   "cell_type": "markdown",
   "id": "44b35e4a-d2d0-45c1-bd88-f0aba19ff637",
   "metadata": {},
   "source": [
    "<br><br><br>"
   ]
  },
  {
   "cell_type": "markdown",
   "id": "906c055b-0920-4483-9179-fec70ed5e9cb",
   "metadata": {},
   "source": [
    "## Expressiveness"
   ]
  },
  {
   "cell_type": "markdown",
   "id": "79d56685-0305-40ec-a29d-0f8fa0edc887",
   "metadata": {},
   "source": [
    "Some algorithms are difficult or impossible to express in array-oriented form. You can usually recognize these by the words \"iterate until converged...\""
   ]
  },
  {
   "cell_type": "markdown",
   "id": "3067ce86-ecf7-4564-9716-a8cb7a69ecff",
   "metadata": {},
   "source": [
    "<br><br><br>"
   ]
  },
  {
   "cell_type": "markdown",
   "id": "533a28d0-bf86-42a0-bae3-3ef04da9f44c",
   "metadata": {},
   "source": [
    "### Example 1: a good function"
   ]
  },
  {
   "cell_type": "markdown",
   "id": "6721e05c-d8ca-43ad-9cff-088f00a35303",
   "metadata": {},
   "source": [
    "To illustrate, suppose that the SciPy library doesn't exist and you want to compute some special functions, such as the log of the Gamma function,\n",
    "\n",
    "$$\\log\\Gamma(z) \\hspace{0.5 cm} \\mbox{where} \\hspace{0.5 cm} \\Gamma(z) = \\int_0^\\infty t^{z - 1} e^{-t} \\, dt$$\n",
    "\n",
    "The old way to do this is to dust off a copy of [_Numerical Recipes_](http://numerical.recipes/) and translate the algorithm from Fortran into Python.\n",
    "\n",
    "![](../img/numerical-recipes.jpg)"
   ]
  },
  {
   "cell_type": "code",
   "execution_count": null,
   "id": "98f1647c-f24c-4eb5-a0c9-4fc132414959",
   "metadata": {},
   "outputs": [],
   "source": [
    "def log_of_gamma(x):\n",
    "    tmp = x + 5.5\n",
    "    tmp -= (x + 0.5) * np.log(tmp)\n",
    "    series = 1.000000000190015\n",
    "    for i, coefficient in enumerate([\n",
    "        76.18009172947146, -86.50532032941677, 24.01409824083091,\n",
    "        -1.231739572450155, 0.1208650973866179e-2, -0.5395239384953e-5,\n",
    "    ]):\n",
    "        series += coefficient / (x + i + 1)\n",
    "    return -tmp + np.log(2.5066282746310005 * series / x)"
   ]
  },
  {
   "cell_type": "markdown",
   "id": "c9752f5c-2b87-4009-994b-996a5e088c73",
   "metadata": {},
   "source": [
    "<br><br><br>"
   ]
  },
  {
   "cell_type": "markdown",
   "id": "a237075a-02d4-4a84-b669-16fd2c535f41",
   "metadata": {},
   "source": [
    "We can compute it by passing scalar values to `log_of_gamma`, and verify its correctness by comparing to SciPy."
   ]
  },
  {
   "cell_type": "code",
   "execution_count": null,
   "id": "7a7baa4e-3008-4089-9fa1-176600113fa0",
   "metadata": {
    "tags": []
   },
   "outputs": [],
   "source": [
    "import numpy as np\n",
    "import matplotlib.pyplot as plt\n",
    "import scipy.special"
   ]
  },
  {
   "cell_type": "code",
   "execution_count": null,
   "id": "08615c83-bab2-461d-a518-623797c3374f",
   "metadata": {
    "slideshow": {
     "slide_type": "slide"
    },
    "tags": []
   },
   "outputs": [],
   "source": [
    "fig, ax = plt.subplots()\n",
    "\n",
    "xs = np.linspace(0, 10, 10000)[1:]\n",
    "ys = [log_of_gamma(x) for x in xs]\n",
    "ax.plot(xs, ys)\n",
    "\n",
    "None"
   ]
  },
  {
   "cell_type": "code",
   "execution_count": null,
   "id": "f8117e1e-0055-4e53-835e-1e8c0aea3f9d",
   "metadata": {},
   "outputs": [],
   "source": [
    "abs(ys - scipy.special.loggamma(xs)).max()"
   ]
  },
  {
   "cell_type": "markdown",
   "id": "25546ca8-f6db-44ae-9a9f-49d852f88b13",
   "metadata": {},
   "source": [
    "<br><br><br>"
   ]
  },
  {
   "cell_type": "markdown",
   "id": "4ac1a36c-2304-4592-bdf9-69572ac3cc64",
   "metadata": {},
   "source": [
    "This special function is easy to \"vectorize\" (replace scalars with arrays) because every operation is a [closed-form expression](https://en.wikipedia.org/wiki/Closed-form_expression). That includes the `for` loop because it's a loop over a fixed number of terms that could as easily have been written as six lines, one for each `coefficient`."
   ]
  },
  {
   "cell_type": "code",
   "execution_count": null,
   "id": "2aa93ae2-e766-435b-8402-12cb4ce4c6ae",
   "metadata": {},
   "outputs": [],
   "source": [
    "log_of_gamma(xs)"
   ]
  },
  {
   "cell_type": "markdown",
   "id": "4c7d428a-d424-4252-b831-b2cdcae16387",
   "metadata": {},
   "source": [
    "<br><br><br>"
   ]
  },
  {
   "cell_type": "markdown",
   "id": "3e3fc4a0-53e5-4304-a08a-d05d46333dd5",
   "metadata": {},
   "source": [
    "### Example 2: a bad function"
   ]
  },
  {
   "cell_type": "markdown",
   "id": "1e958bd0-9f0e-4c67-9b07-51f4c078a500",
   "metadata": {},
   "source": [
    "Now consider a special function that can't be vectorized this way: incomplete gamma $P(a, x)$.\n",
    "\n",
    "$$P(a, x) = \\frac{1}{\\Gamma(a)} \\int_0^x t^{a - 1} e^{-t} \\, dt \\hspace{0.5 cm} \\mbox{where} \\hspace{0.5 cm} a > 0$$"
   ]
  },
  {
   "cell_type": "code",
   "execution_count": null,
   "id": "499cb722-3cb7-41bd-b1a8-8f61de0d2f55",
   "metadata": {},
   "outputs": [],
   "source": [
    "SMALL_NUMBER = 3e-7\n",
    "\n",
    "def incomplete_gamma_P(a, x):\n",
    "    gln = log_of_gamma(a)\n",
    "\n",
    "    delta = summation = 1.0 / a\n",
    "\n",
    "    for i in range(100):\n",
    "        delta *= x / (a + i + 1)\n",
    "        summation += delta\n",
    "        if np.absolute(delta) < np.absolute(summation) * SMALL_NUMBER:\n",
    "            return summation * np.exp(-x + a*np.log(x) - gln)\n",
    "\n",
    "    raise RuntimeError(\"did not converge\")"
   ]
  },
  {
   "cell_type": "markdown",
   "id": "955e2f8b-5e06-4a1a-8304-a3a7f98052c8",
   "metadata": {},
   "source": [
    "<br><br><br>"
   ]
  },
  {
   "cell_type": "markdown",
   "id": "000cb765-0d88-4ddd-86b4-143457b1285a",
   "metadata": {},
   "source": [
    "We can evaluate the function with scalars..."
   ]
  },
  {
   "cell_type": "code",
   "execution_count": null,
   "id": "4f988dd7-1c62-4fdc-b6c7-4f28477d071a",
   "metadata": {},
   "outputs": [],
   "source": [
    "fig, ax = plt.subplots()\n",
    "\n",
    "xs = np.linspace(0, 15, 10000)[1:]\n",
    "\n",
    "ax.plot(xs, [incomplete_gamma_P(0.5, x) for x in xs])\n",
    "ax.plot(xs, [incomplete_gamma_P(2.0, x) for x in xs])\n",
    "ax.plot(xs, [incomplete_gamma_P(10, x) for x in xs])\n",
    "\n",
    "None"
   ]
  },
  {
   "cell_type": "code",
   "execution_count": null,
   "id": "51f517e4-289f-4045-a8b6-fd1b430e83e7",
   "metadata": {},
   "outputs": [],
   "source": [
    "abs(np.asarray([incomplete_gamma_P(0.5, x) for x in xs]) - scipy.special.gammainc(0.5, xs)).max()"
   ]
  },
  {
   "cell_type": "code",
   "execution_count": null,
   "id": "89259501-6483-4830-bdd4-8d1401aec940",
   "metadata": {},
   "outputs": [],
   "source": [
    "abs(np.asarray([incomplete_gamma_P(2, x) for x in xs]) - scipy.special.gammainc(2, xs)).max()"
   ]
  },
  {
   "cell_type": "code",
   "execution_count": null,
   "id": "8dd55c07-b8df-4266-8b3a-f04b5fbff0b1",
   "metadata": {
    "editable": true,
    "slideshow": {
     "slide_type": ""
    },
    "tags": []
   },
   "outputs": [],
   "source": [
    "abs(np.asarray([incomplete_gamma_P(10, x) for x in xs]) - scipy.special.gammainc(10, xs)).max()"
   ]
  },
  {
   "cell_type": "markdown",
   "id": "82fcf1ff-71e0-4e22-be81-b5f8a75a4637",
   "metadata": {},
   "source": [
    "<br><br><br>"
   ]
  },
  {
   "cell_type": "markdown",
   "id": "9a43681b-3baf-411f-b6ba-11df6557dc0c",
   "metadata": {},
   "source": [
    "But we can't evaluate the function with an array."
   ]
  },
  {
   "cell_type": "code",
   "execution_count": null,
   "id": "f7554f87-ffd1-4b32-8bf7-b72657ebbd18",
   "metadata": {
    "editable": true,
    "slideshow": {
     "slide_type": ""
    },
    "tags": [
     "raises-exception"
    ]
   },
   "outputs": [],
   "source": [
    "incomplete_gamma_P(2, xs)"
   ]
  },
  {
   "cell_type": "markdown",
   "id": "3db2b01b-bcc9-447c-8a36-10720f3c9256",
   "metadata": {},
   "source": [
    "<br><br><br>"
   ]
  },
  {
   "cell_type": "markdown",
   "id": "e8e72a05-5c35-421d-920b-0c4149cfc382",
   "metadata": {},
   "source": [
    "This error message is because Python can't decide whether to enter the body of the `if` statement, to know if it's time to return a value.\n",
    "\n",
    "Some array elements may have converged already, while others haven't.\n",
    "* Should `incomplete_gamma_P` return if any one array element has converged?\n",
    "* Should `incomplete_gamma_P` keep iterating until all of the array elements have converged?"
   ]
  },
  {
   "cell_type": "markdown",
   "id": "fe482d51-cad6-41f3-9741-03c34fea0714",
   "metadata": {},
   "source": [
    "<br><br><br>"
   ]
  },
  {
   "cell_type": "markdown",
   "id": "dccf8e9b-3b0a-43bf-987d-13bc2296b8de",
   "metadata": {},
   "source": [
    "### Two ways to work around the issue"
   ]
  },
  {
   "cell_type": "markdown",
   "id": "1820a06c-42d7-4d00-97de-04de283dd680",
   "metadata": {},
   "source": [
    "1. Keep iterating over all values in the array, needlessly computing values that have already converged."
   ]
  },
  {
   "cell_type": "code",
   "execution_count": null,
   "id": "977acb80-28e8-46ef-966b-acea4ffb35e3",
   "metadata": {
    "editable": true,
    "slideshow": {
     "slide_type": ""
    },
    "tags": []
   },
   "outputs": [],
   "source": [
    "def incomplete_gamma_P_numpy_keep_going(a, x):\n",
    "    gln = log_of_gamma(a)\n",
    "\n",
    "    delta = summation = 1.0 / a\n",
    "\n",
    "    for i in range(100):\n",
    "        delta *= x / (a + i + 1)\n",
    "        summation += delta\n",
    "\n",
    "    return summation * np.exp(-x + a*np.log(x) - gln)"
   ]
  },
  {
   "cell_type": "code",
   "execution_count": null,
   "id": "dab39062-7359-46f2-be40-e32891b709ff",
   "metadata": {},
   "outputs": [],
   "source": [
    "abs(incomplete_gamma_P_numpy_keep_going(0.5, xs) - scipy.special.gammainc(0.5, xs)).max()"
   ]
  },
  {
   "cell_type": "code",
   "execution_count": null,
   "id": "cf034ca7-3152-4aeb-80a4-1447ef59093a",
   "metadata": {},
   "outputs": [],
   "source": [
    "abs(incomplete_gamma_P_numpy_keep_going(2, xs) - scipy.special.gammainc(2, xs)).max()"
   ]
  },
  {
   "cell_type": "code",
   "execution_count": null,
   "id": "ea45c1c5-aaa0-4486-bd27-8f9b0b99d2bf",
   "metadata": {},
   "outputs": [],
   "source": [
    "abs(incomplete_gamma_P_numpy_keep_going(10, xs) - scipy.special.gammainc(10, xs)).max()"
   ]
  },
  {
   "cell_type": "markdown",
   "id": "ac646a2b-dcf6-4209-81fa-cb089d1ac41d",
   "metadata": {},
   "source": [
    "<br><br><br>"
   ]
  },
  {
   "cell_type": "markdown",
   "id": "8f71a80b-f57e-4647-b09c-678738b13049",
   "metadata": {},
   "source": [
    "2. Keep track of which values have already converged and don't needlessly compute those?"
   ]
  },
  {
   "cell_type": "code",
   "execution_count": null,
   "id": "3cca4c50-38de-4cce-a751-96abd42ca6d1",
   "metadata": {
    "tags": []
   },
   "outputs": [],
   "source": [
    "SMALL_NUMBER = 3e-7\n",
    "\n",
    "def incomplete_gamma_P_numpy_tricky_bookkeeping(a, x):\n",
    "    gln = log_of_gamma(a)\n",
    "\n",
    "    delta = np.full(x.shape, 1.0 / a)\n",
    "    summation = delta.copy()\n",
    "\n",
    "    not_converged = np.ones(x.shape, np.bool_)\n",
    "\n",
    "    for i in range(100):\n",
    "        delta[not_converged] *= x[not_converged] / (a + i + 1)\n",
    "        summation[not_converged] += delta[not_converged]\n",
    "        not_converged &= np.absolute(delta) >= np.absolute(summation) * SMALL_NUMBER\n",
    "\n",
    "    return summation * np.exp(-x + a*np.log(x) - gln)"
   ]
  },
  {
   "cell_type": "code",
   "execution_count": null,
   "id": "920a91c9-8602-4f24-8388-5fc6e603c509",
   "metadata": {},
   "outputs": [],
   "source": [
    "abs(incomplete_gamma_P_numpy_tricky_bookkeeping(0.5, xs) - scipy.special.gammainc(0.5, xs)).max()"
   ]
  },
  {
   "cell_type": "code",
   "execution_count": null,
   "id": "c3feed5a-856b-4c41-833d-e634268d44f7",
   "metadata": {},
   "outputs": [],
   "source": [
    "abs(incomplete_gamma_P_numpy_tricky_bookkeeping(2, xs) - scipy.special.gammainc(2, xs)).max()"
   ]
  },
  {
   "cell_type": "code",
   "execution_count": null,
   "id": "e3a55a05-845b-41f1-9625-cab1e3afac7c",
   "metadata": {},
   "outputs": [],
   "source": [
    "abs(incomplete_gamma_P_numpy_tricky_bookkeeping(10, xs) - scipy.special.gammainc(10, xs)).max()"
   ]
  },
  {
   "cell_type": "markdown",
   "id": "34e5f80e-8d4f-4e03-8663-1e83bd8c17c3",
   "metadata": {},
   "source": [
    "<br><br><br>"
   ]
  },
  {
   "cell_type": "markdown",
   "id": "9caf149c-13f7-4c12-9b1f-993b8ff46ce0",
   "metadata": {},
   "source": [
    "It's certainly _simpler_ to compute too much, but which one is faster?"
   ]
  },
  {
   "cell_type": "code",
   "execution_count": null,
   "id": "d7e5764d-f4e1-4d73-8487-f5b339a49111",
   "metadata": {},
   "outputs": [],
   "source": [
    "%%timeit -n100 -r3\n",
    "\n",
    "incomplete_gamma_P_numpy_keep_going(2, xs)"
   ]
  },
  {
   "cell_type": "code",
   "execution_count": null,
   "id": "61b07276-8ac3-4dda-9534-bb6e4268b5ae",
   "metadata": {},
   "outputs": [],
   "source": [
    "%%timeit -n100 -r3\n",
    "\n",
    "incomplete_gamma_P_numpy_tricky_bookkeeping(2, xs)"
   ]
  },
  {
   "cell_type": "markdown",
   "id": "a43a81e5-66cc-47a2-bb24-ca8658e0e5f4",
   "metadata": {},
   "source": [
    "<br><br><br>"
   ]
  },
  {
   "cell_type": "markdown",
   "id": "631777f1-1474-4ff1-81f2-45ea7913c00f",
   "metadata": {},
   "source": [
    "The easy one is faster! The tricky bookkeeping required to keep track of which array elements have converged was more expensive than needlessly computing them.\n",
    "\n",
    "That's not unusual. If you've ever done machine learning with PyTorch, you'd recognize a loop like this:\n",
    "\n",
    "```python\n",
    "for epoch in range(1000):\n",
    "    # tell the optimizer to begin an optimization step\n",
    "    optimizer.zero_grad()\n",
    "\n",
    "    # use the model as a prediction function: features → prediction\n",
    "    predictions = model(features)\n",
    "\n",
    "    # compute the loss between these predictions and the intended targets\n",
    "    loss = loss_function(predictions, targets)\n",
    "\n",
    "    # tell the loss function and optimizer to end an optimization step\n",
    "    loss.backward()\n",
    "    optimizer.step()\n",
    "```\n",
    "\n",
    "which keeps optimizing all neural network weights `1000` times, regardless of whether the fit has converged. In this line of work, it has become normal to ignore formal measures of convergence and treat the number of steps as a hyperparameter, constant during the fit."
   ]
  },
  {
   "cell_type": "markdown",
   "id": "4c07fc61-02fa-449e-bd15-9548b6c09d42",
   "metadata": {},
   "source": [
    "<br><br><br>"
   ]
  },
  {
   "cell_type": "markdown",
   "id": "4d2c4796-89e4-4459-9a17-c2463f4fe502",
   "metadata": {},
   "source": [
    "On to the [project.ipynb](project.ipynb)!"
   ]
  }
 ],
 "metadata": {
  "kernelspec": {
   "display_name": "Python 3 (ipykernel)",
   "language": "python",
   "name": "python3"
  },
  "language_info": {
   "codemirror_mode": {
    "name": "ipython",
    "version": 3
   },
   "file_extension": ".py",
   "mimetype": "text/x-python",
   "name": "python",
   "nbconvert_exporter": "python",
   "pygments_lexer": "ipython3",
   "version": "3.12.11"
  }
 },
 "nbformat": 4,
 "nbformat_minor": 5
}
