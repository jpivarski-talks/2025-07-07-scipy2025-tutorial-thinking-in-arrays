{
 "cells": [
  {
   "cell_type": "markdown",
   "id": "52506e44-0e8c-4ac0-8de7-644b08ca0ede",
   "metadata": {},
   "source": [
    "# Part 2: Limits of array-oriented programming"
   ]
  },
  {
   "cell_type": "markdown",
   "id": "bf705a33-e366-481c-963a-5e8ff2571e33",
   "metadata": {},
   "source": [
    "Now that we've seen the advantages of array-oriented programming, let's consider its disadvantages."
   ]
  },
  {
   "cell_type": "markdown",
   "id": "f35802e8-7c9d-473f-b962-66dec6a87652",
   "metadata": {},
   "source": [
    "<br><br><br>"
   ]
  },
  {
   "cell_type": "markdown",
   "id": "4111319d-e3f5-480d-a93d-777e7310d854",
   "metadata": {},
   "source": [
    "## Performance"
   ]
  },
  {
   "cell_type": "markdown",
   "id": "b59eb1cb-576b-480e-b832-f247781673dc",
   "metadata": {},
   "source": [
    "Although computing a mathematical formula on millions of values is a lot faster with NumPy arrays than it is with Python scalars, it's not the fastest way to do it."
   ]
  },
  {
   "cell_type": "code",
   "execution_count": 1,
   "id": "690e53fd-77d2-4e74-aba4-d38df4eaae1d",
   "metadata": {},
   "outputs": [],
   "source": [
    "import numpy as np\n",
    "import numexpr as ne"
   ]
  },
  {
   "cell_type": "markdown",
   "id": "91b5e637-0f45-4260-a7ce-c3ce9d5bdbfc",
   "metadata": {},
   "source": [
    "Quadratic formula (one solution $x$ of $ax^2 + bx + c = 0$), just to have something to calculate:\n",
    "\n",
    "$$ x = \\frac{-b + \\sqrt{b^2 - 4ac}}{2a} $$"
   ]
  },
  {
   "cell_type": "code",
   "execution_count": 2,
   "id": "0cf90f10-45f8-45e0-8801-5035dd20b0ad",
   "metadata": {
    "tags": []
   },
   "outputs": [],
   "source": [
    "def quadratic_formula(a, b, c):\n",
    "    return (-b + np.sqrt(b**2 - 4*a*c)) / (2*a)"
   ]
  },
  {
   "cell_type": "code",
   "execution_count": 3,
   "id": "1442b84e-5565-4e73-8073-ac14e9b627a9",
   "metadata": {
    "tags": []
   },
   "outputs": [],
   "source": [
    "a = np.random.uniform(5, 10, 5_000_000)\n",
    "b = np.random.uniform(10, 20, 5_000_000)\n",
    "c = np.random.uniform(-0.1, 0.1, 5_000_000)"
   ]
  },
  {
   "cell_type": "markdown",
   "id": "87493c65-8ec9-46d0-9d94-fd39307a4a4c",
   "metadata": {},
   "source": [
    "<br><br><br>"
   ]
  },
  {
   "cell_type": "code",
   "execution_count": 4,
   "id": "44ac0772-3ed7-4dac-a474-539d9599face",
   "metadata": {
    "tags": []
   },
   "outputs": [
    {
     "name": "stdout",
     "output_type": "stream",
     "text": [
      "7.4 s ± 9.39 ms per loop (mean ± std. dev. of 3 runs, 1 loop each)\n"
     ]
    }
   ],
   "source": [
    "%%timeit -n1 -r3\n",
    "\n",
    "imperative = np.empty_like(c)\n",
    "for i, (ai, bi, ci) in enumerate(zip(a, b, c)):\n",
    "    imperative[i] = quadratic_formula(ai, bi, ci)"
   ]
  },
  {
   "cell_type": "code",
   "execution_count": 5,
   "id": "39111e8d-134b-430a-8893-3435bba5023c",
   "metadata": {
    "tags": []
   },
   "outputs": [
    {
     "name": "stdout",
     "output_type": "stream",
     "text": [
      "44.2 ms ± 15.8 ms per loop (mean ± std. dev. of 3 runs, 1 loop each)\n"
     ]
    }
   ],
   "source": [
    "%%timeit -n1 -r3\n",
    "\n",
    "quadratic_formula(a, b, c)"
   ]
  },
  {
   "cell_type": "code",
   "execution_count": 6,
   "id": "a354093e-c163-4ba8-a65b-69118a73095f",
   "metadata": {},
   "outputs": [
    {
     "name": "stdout",
     "output_type": "stream",
     "text": [
      "7.21 ms ± 1.16 ms per loop (mean ± std. dev. of 3 runs, 1 loop each)\n"
     ]
    }
   ],
   "source": [
    "%%timeit -n1 -r3\n",
    "\n",
    "ne.evaluate(\"(-b + sqrt(b**2 - 4*a*c)) / (2*a)\")"
   ]
  },
  {
   "cell_type": "markdown",
   "id": "ca510c37-c2ba-405d-9467-35dbe2ca8c3b",
   "metadata": {},
   "source": [
    "<br><br><br>"
   ]
  },
  {
   "cell_type": "markdown",
   "id": "0e9fd6ef-de9f-4c1f-9ea2-14ef0936b636",
   "metadata": {},
   "source": [
    "Why is NumPy so much slower than NumExpr?"
   ]
  },
  {
   "cell_type": "markdown",
   "id": "59cc8332-cece-4ce1-8d54-599fdd8a3cb5",
   "metadata": {},
   "source": [
    "<br><br><br>"
   ]
  },
  {
   "cell_type": "markdown",
   "id": "5f19513f-e23a-4749-b51f-8eb469361368",
   "metadata": {},
   "source": [
    "Each mathematical operation (`+`, `*`, `np.sqrt`) of the NumPy calculation performs that operation on the whole array before moving on to the next operation. If the arrays are larger than your CPU's L1, L2, and L3 caches, it will be forced to get the data from RAM, and memory transfers are usually slower than computing a whole mathematical formula.\n",
    "\n",
    "What NumPy is doing is almost like this:"
   ]
  },
  {
   "cell_type": "code",
   "execution_count": 7,
   "id": "4d6bf1b3-fbad-4fa8-a5a8-df5fbaa3c458",
   "metadata": {
    "tags": []
   },
   "outputs": [],
   "source": [
    "def pedantic_quadratic_formula(a, b, c):\n",
    "    tmp1 = np.negative(b)            # -b\n",
    "    tmp2 = np.square(b)              # b**2\n",
    "    tmp3 = np.multiply(4, a)         # 4*a\n",
    "    tmp4 = np.multiply(tmp3, c)      # tmp3*c\n",
    "    del tmp3\n",
    "    tmp5 = np.subtract(tmp2, tmp4)   # tmp2 - tmp4\n",
    "    del tmp2, tmp4\n",
    "    tmp6 = np.sqrt(tmp5)             # sqrt(tmp5)\n",
    "    del tmp5\n",
    "    tmp7 = np.add(tmp1, tmp6)        # tmp1 + tmp6\n",
    "    del tmp1, tmp6\n",
    "    tmp8 = np.multiply(2, a)         # 2*a\n",
    "    return np.divide(tmp7, tmp8)     # tmp7 / tmp8"
   ]
  },
  {
   "cell_type": "markdown",
   "id": "e38358ab-46eb-487e-ac2a-00793fc10400",
   "metadata": {},
   "source": [
    "<br><br><br>"
   ]
  },
  {
   "cell_type": "markdown",
   "id": "9e90cb69-7d48-4481-8e57-2b0de987836e",
   "metadata": {},
   "source": [
    "Confirm with a performance test:"
   ]
  },
  {
   "cell_type": "code",
   "execution_count": 8,
   "id": "d0ba590f-dfa5-4ae0-937f-3ebe66207af4",
   "metadata": {
    "tags": []
   },
   "outputs": [
    {
     "name": "stdout",
     "output_type": "stream",
     "text": [
      "56.5 ms ± 3.77 ms per loop (mean ± std. dev. of 3 runs, 1 loop each)\n"
     ]
    }
   ],
   "source": [
    "%%timeit -n1 -r3\n",
    "\n",
    "pedantic_quadratic_formula(a, b, c)"
   ]
  },
  {
   "cell_type": "code",
   "execution_count": 9,
   "id": "592c9633-2459-4e68-aa9a-30fc7c276faf",
   "metadata": {
    "tags": []
   },
   "outputs": [
    {
     "name": "stdout",
     "output_type": "stream",
     "text": [
      "34.9 ms ± 3.14 ms per loop (mean ± std. dev. of 3 runs, 1 loop each)\n"
     ]
    }
   ],
   "source": [
    "%%timeit -n1 -r3\n",
    "\n",
    "quadratic_formula(a, b, c)"
   ]
  },
  {
   "cell_type": "markdown",
   "id": "2b1a92b0-ec97-4f03-aa92-2fb1587bb532",
   "metadata": {},
   "source": [
    "_(Caveat: NumPy is able to \"fuse\" some operations, so it's sometimes a little better than the completely \"unfused\" `pedantic_quadratic_formula`, but both of the above times are much slower than NumExpr.)_"
   ]
  },
  {
   "cell_type": "markdown",
   "id": "563b2cc6-8632-4169-9ac1-cac72d671490",
   "metadata": {},
   "source": [
    "<br><br><br>"
   ]
  },
  {
   "cell_type": "markdown",
   "id": "2f23a33b-830b-468b-832c-d9d88872cfb6",
   "metadata": {},
   "source": [
    "NumExpr, on the other hand, turns the `\"(-b + sqrt(b**2 - 4*a*c)) / (2*a)\"` expression into something that it can compute quickly (a virtual machine like Python, but a lower-overhead one that only does mathematical operations)."
   ]
  },
  {
   "cell_type": "markdown",
   "id": "e1c73d4f-222e-46a1-a098-54b0f863bb06",
   "metadata": {},
   "source": [
    "<br><br><br>"
   ]
  },
  {
   "cell_type": "markdown",
   "id": "5f7afe11-7c91-4cea-a3b4-518bc8be2425",
   "metadata": {},
   "source": [
    "We could go even further by actually compiling the expression using Numba:"
   ]
  },
  {
   "cell_type": "code",
   "execution_count": 10,
   "id": "a41ca829-c76b-41ef-8090-96b1b31fcf84",
   "metadata": {},
   "outputs": [
    {
     "data": {
      "text/plain": [
       "array([-0.00542384, -0.00500319,  0.00456461, ...,  0.00367107,\n",
       "        0.00036945, -0.00736863], shape=(5000000,))"
      ]
     },
     "execution_count": 10,
     "metadata": {},
     "output_type": "execute_result"
    }
   ],
   "source": [
    "import numba as nb\n",
    "\n",
    "@nb.vectorize\n",
    "def numba_quadratic_formula(a, b, c):\n",
    "    return (-b + np.sqrt(b**2 - 4*a*c)) / (2*a)\n",
    "\n",
    "numba_quadratic_formula(a, b, c)"
   ]
  },
  {
   "cell_type": "code",
   "execution_count": 11,
   "id": "6e495b6c-69f2-4467-a4e2-7fe2bdee5158",
   "metadata": {},
   "outputs": [
    {
     "name": "stdout",
     "output_type": "stream",
     "text": [
      "7.22 ms ± 10.2 μs per loop (mean ± std. dev. of 3 runs, 100 loops each)\n"
     ]
    }
   ],
   "source": [
    "%%timeit -n100 -r3\n",
    "\n",
    "numba_quadratic_formula(a, b, c)"
   ]
  },
  {
   "cell_type": "markdown",
   "id": "29689982-0a07-4876-9c12-82107622f8a9",
   "metadata": {},
   "source": [
    "<br><br><br>"
   ]
  },
  {
   "cell_type": "markdown",
   "id": "dda5bef4-475c-4fa4-bb53-9e76ad6962d1",
   "metadata": {},
   "source": [
    "Or compile it with JAX (we'll hear more about JAX):"
   ]
  },
  {
   "cell_type": "code",
   "execution_count": 12,
   "id": "7c850596-6d37-483d-adf4-86fc6caecf8a",
   "metadata": {},
   "outputs": [
    {
     "data": {
      "text/plain": [
       "Array([-0.00542384, -0.00500319,  0.00456461, ...,  0.00367107,\n",
       "        0.00036945, -0.00736863], dtype=float64)"
      ]
     },
     "execution_count": 12,
     "metadata": {},
     "output_type": "execute_result"
    }
   ],
   "source": [
    "import jax\n",
    "jax.config.update(\"jax_platform_name\", \"cpu\"); jax.config.update(\"jax_enable_x64\", True)\n",
    "\n",
    "@jax.jit\n",
    "def jax_quadratic_formula(a, b, c):\n",
    "    return (-b + jax.numpy.sqrt(b**2 - 4*a*c)) / (2*a)\n",
    "\n",
    "jax_quadratic_formula(a, b, c)"
   ]
  },
  {
   "cell_type": "code",
   "execution_count": 13,
   "id": "51a0bf6b-3dd4-4373-b9e5-e30826eff5b5",
   "metadata": {},
   "outputs": [
    {
     "name": "stdout",
     "output_type": "stream",
     "text": [
      "3.08 ms ± 495 μs per loop (mean ± std. dev. of 3 runs, 100 loops each)\n"
     ]
    }
   ],
   "source": [
    "%%timeit -n100 -r3\n",
    "\n",
    "jax_quadratic_formula(a, b, c)"
   ]
  },
  {
   "cell_type": "markdown",
   "id": "7ddb0c1f-b9cb-4713-88c6-dd31a4d3d9ff",
   "metadata": {},
   "source": [
    "<br><br><br>"
   ]
  },
  {
   "cell_type": "markdown",
   "id": "d91da74c-679f-4ec0-98c3-aea385fd5ea9",
   "metadata": {},
   "source": [
    "Let's make a scorecard:"
   ]
  },
  {
   "cell_type": "code",
   "execution_count": 14,
   "id": "859c0f6c-e978-4a74-afd6-931c7401797a",
   "metadata": {},
   "outputs": [],
   "source": [
    "import matplotlib.pyplot as plt"
   ]
  },
  {
   "cell_type": "code",
   "execution_count": 16,
   "id": "86763f95-59d4-4c6a-9b86-33ce19c5a5b3",
   "metadata": {},
   "outputs": [
    {
     "data": {
      "image/png": "[encoded data removed]",
      "text/plain": [
       "<Figure size 640x480 with 1 Axes>"
      ]
     },
     "metadata": {},
     "output_type": "display_data"
    }
   ],
   "source": [
    "fig, ax = plt.subplots()\n",
    "\n",
    "scorecard = [\n",
    "    (\"Pure Python\",     7.4e0),\n",
    "    (\"Pedantic NumPy\", 56.5e-3),\n",
    "    (\"NumPy\",          34.9e-3),\n",
    "    (\"NumExpr\",        7.21e-3),\n",
    "    (\"Numba\",          7.22e-3),\n",
    "    (\"JAX\",            3.08e-3),\n",
    "]\n",
    "\n",
    "ax.barh([x for x, y in scorecard[::-1]], [y for x, y in scorecard[::-1]])\n",
    "ax.grid(axis=\"x\", ls=\":\", c=\"gray\")\n",
    "ax.set_axisbelow(True)\n",
    "ax.set_xscale(\"log\")\n",
    "ax.set_xlabel(\"time (seconds), smaller is better\")\n",
    "\n",
    "None"
   ]
  },
  {
   "cell_type": "markdown",
   "id": "999137a0-8a0e-4a92-ba0d-897e8d86818c",
   "metadata": {},
   "source": [
    "The exact results depend on many things, but there's a general pattern of NumPy being orders of magnitude faster than pure Python, while compiled, \"single-pass\" implementations are several times faster than NumPy."
   ]
  },
  {
   "cell_type": "markdown",
   "id": "44b35e4a-d2d0-45c1-bd88-f0aba19ff637",
   "metadata": {},
   "source": [
    "<br><br><br>"
   ]
  },
  {
   "cell_type": "markdown",
   "id": "906c055b-0920-4483-9179-fec70ed5e9cb",
   "metadata": {},
   "source": [
    "## Expressiveness"
   ]
  },
  {
   "cell_type": "markdown",
   "id": "79d56685-0305-40ec-a29d-0f8fa0edc887",
   "metadata": {},
   "source": [
    "There are some "
   ]
  }
 ],
 "metadata": {
  "kernelspec": {
   "display_name": "Python 3 (ipykernel)",
   "language": "python",
   "name": "python3"
  },
  "language_info": {
   "codemirror_mode": {
    "name": "ipython",
    "version": 3
   },
   "file_extension": ".py",
   "mimetype": "text/x-python",
   "name": "python",
   "nbconvert_exporter": "python",
   "pygments_lexer": "ipython3",
   "version": "3.12.11"
  }
 },
 "nbformat": 4,
 "nbformat_minor": 5
}
