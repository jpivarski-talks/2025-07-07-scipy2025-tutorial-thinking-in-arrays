{
 "cells": [
  {
   "cell_type": "markdown",
   "id": "05e98b01-6b50-438b-819a-7b4368b4d16d",
   "metadata": {},
   "source": [
    "# Part 4: Arbitrary data structures"
   ]
  },
  {
   "cell_type": "markdown",
   "id": "ba658a21-df1e-4864-abc1-f8fdea605ed9",
   "metadata": {},
   "source": [
    "So far, all the arrays we've dealt with have been rectangular (in $n$ dimensions; \"rectilinear\").\n",
    "\n",
    "![](../img/8-layer_cube.jpg)"
   ]
  },
  {
   "cell_type": "markdown",
   "id": "10a75d58-d4b8-43c8-920c-52f91c47be07",
   "metadata": {},
   "source": [
    "<br><br><br>"
   ]
  },
  {
   "cell_type": "markdown",
   "id": "302e8b52-93ce-42b6-a2ea-a08f7b16e7f8",
   "metadata": {},
   "source": [
    "But what if we had data like this?"
   ]
  },
  {
   "cell_type": "code",
   "execution_count": null,
   "id": "26f0effa-b04a-4f46-8d1b-60b9e94c7c2f",
   "metadata": {},
   "outputs": [],
   "source": [
    "numbers = [\n",
    "  [\n",
    "    [[1.84, 0.324]],\n",
    "    [[-1.609, -0.713, 0.005], [0.953, -0.993, 0.011, 0.718]],\n",
    "    [[0.459, -1.517, 1.545], [0.33, 0.292]],\n",
    "    [[-0.376, -1.46, -0.206], [0.65, 1.278]],\n",
    "    [[], [], [1.617]],\n",
    "    []\n",
    "  ],\n",
    "  [\n",
    "    [[-0.106, 0.611]],\n",
    "    [[0.118, -1.788, 0.794, 0.658], [-0.105]]\n",
    "  ],\n",
    "  [\n",
    "    [[-0.384], [0.697, -0.856]],\n",
    "    [[0.778, 0.023, -1.455, -2.289], [-0.67], [1.153, -1.669, 0.305, 1.517, -0.292]]\n",
    "  ],\n",
    "  [\n",
    "    [[0.205, -0.355], [-0.265], [1.042]],\n",
    "    [[-0.004], [-1.167, -0.054, 0.726, 0.213]],\n",
    "    [[1.741, -0.199, 0.827]]\n",
    "  ]\n",
    "]"
   ]
  },
  {
   "cell_type": "markdown",
   "id": "7d85b630-3ccb-4c37-98e4-4e86a0569280",
   "metadata": {},
   "source": [
    "Or this?"
   ]
  },
  {
   "cell_type": "code",
   "execution_count": null,
   "id": "d19ae7f7-39be-4c93-8aa7-fe5ccf7fa793",
   "metadata": {},
   "outputs": [],
   "source": [
    "nlp = [\n",
    "    [\n",
    "        (\"John\", \"NNP\"), (\"arrived\", \"VBD\"), (\"yesterday\", \"RB\"), (\".\", \".\")\n",
    "    ],\n",
    "    [\n",
    "        (\"He\", \"PRP\"), (\"visited\", \"VBD\"), (\"the\", \"DT\"), (\"Eiffel\", \"NNP\"),\n",
    "        (\"Tower\", \"NNP\"), (\".\", \".\")\n",
    "    ],\n",
    "    [\n",
    "        (\"IBM\", \"NNP\"), (\"hired\", \"VBD\"), (\"Alice\", \"NNP\")\n",
    "    ],\n",
    "    [\n",
    "        (\"Alice\", \"NNP\"), (\"is\", \"VBZ\"), (\"from\", \"IN\"), (\"London\", \"NNP\"),\n",
    "        (\".\", \".\")\n",
    "    ],\n",
    "    [\n",
    "        (\"Did\", \"VBD\"), (\"they\", \"PRP\"), (\"meet\", \"VB\"), (\"in\", \"IN\"),\n",
    "        (\"New\", \"NNP\"), (\"York\", \"NNP\"), (\"City\", \"NNP\"), (\"?\", \".\")\n",
    "    ],\n",
    "]"
   ]
  },
  {
   "cell_type": "markdown",
   "id": "ea8f7dd1-0c6f-4503-93f2-27545587d616",
   "metadata": {},
   "source": [
    "Or this?"
   ]
  },
  {
   "cell_type": "code",
   "execution_count": null,
   "id": "4fb291c0-85b0-45a1-9bd5-354889df63c2",
   "metadata": {},
   "outputs": [],
   "source": [
    "geojson = {\n",
    "  \"type\": \"FeatureCollection\",\n",
    "  \"features\": [\n",
    "    {\n",
    "      \"type\": \"Feature\",\n",
    "      \"properties\": {\"name\": \"Convention Center\"},\n",
    "      \"geometry\": {\n",
    "        \"type\": \"Polygon\", \"coordinates\": [[\n",
    "          [-122.43972, 47.24888], [-122.43958, 47.24829], [-122.43964, 47.24828],\n",
    "          [-122.43958, 47.24802], [-122.43841, 47.24815], [-122.43860, 47.24899],\n",
    "          [-122.43972, 47.24888]]]\n",
    "      }\n",
    "    },\n",
    "    {\n",
    "      \"type\": \"Feature\",\n",
    "      \"properties\": {\"name\": \"Mariott\"},\n",
    "      \"geometry\": {\n",
    "        \"type\": \"Polygon\", \"coordinates\": [[\n",
    "          [-122.43944, 47.24760], [-122.43908, 47.24764], [-122.43903, 47.24738],\n",
    "          [-122.43855, 47.24743], [-122.43856, 47.24745], [-122.43822, 47.24749],\n",
    "          [-122.43836, 47.24812], [-122.43845, 47.24811], [-122.43846, 47.24814],\n",
    "          [-122.43954, 47.24803], [-122.43944, 47.24760]]]\n",
    "      }\n",
    "    },\n",
    "    {\n",
    "      \"type\": \"Feature\",\n",
    "      \"properties\": {\"name\": \"Carlton Center\"},\n",
    "      \"geometry\": {\n",
    "        \"type\": \"Polygon\", \"coordinates\": [[\n",
    "          [-122.43860, 47.24716], [-122.43833, 47.24720], [-122.43821, 47.24747],\n",
    "          [-122.43865, 47.24742], [-122.43860, 47.24716]]]\n",
    "      }\n",
    "    },\n",
    "    {\n",
    "      \"type\": \"Feature\",\n",
    "      \"properties\": {\"name\": \"Loading Docks\"},\n",
    "      \"geometry\": {\n",
    "        \"type\": \"Polygon\", \"coordinates\": [[\n",
    "          [-122.43982, 47.24804], [-122.43974, 47.24772], [-122.43947, 47.24774],\n",
    "          [-122.43954, 47.24803], [-122.43958, 47.24802], [-122.43962, 47.24816],\n",
    "          [-122.43982, 47.24804]]]\n",
    "      }\n",
    "    },\n",
    "    {\n",
    "      \"type\": \"Feature\",\n",
    "      \"properties\": {\"name\": \"Parking Garage\"},\n",
    "      \"geometry\": {\n",
    "        \"type\": \"Polygon\", \"coordinates\": [[\n",
    "          [-122.44022, 47.24800], [-122.44000, 47.24702], [-122.43953, 47.24707],\n",
    "          [-122.43968, 47.24772], [-122.43974, 47.24772], [-122.43982, 47.24804],\n",
    "          [-122.44022, 47.24800]]]\n",
    "      }\n",
    "    }\n",
    "  ]\n",
    "}"
   ]
  },
  {
   "cell_type": "markdown",
   "id": "f851b7c2-1c57-4518-a039-f99f7a8d3ded",
   "metadata": {},
   "source": [
    "<br><br><br>"
   ]
  },
  {
   "cell_type": "markdown",
   "id": "fefc8769-21f9-4272-a85b-05caee12eba5",
   "metadata": {},
   "source": [
    "It's possible to work with data like these in pure Python, but what if the dataset is huge?"
   ]
  },
  {
   "cell_type": "markdown",
   "id": "081e9fa0-a26b-4800-ad86-32ca9bcce534",
   "metadata": {},
   "source": [
    "<br><br><br>"
   ]
  },
  {
   "cell_type": "markdown",
   "id": "a946dc87-38ee-405f-89fd-c97c6785a739",
   "metadata": {},
   "source": [
    "It's possible to work with data like these as a set of rectangular tables, using integer keys to establish relationships between them."
   ]
  },
  {
   "cell_type": "code",
   "execution_count": null,
   "id": "ef4b0b3b-5b7f-4131-a27d-5ed5d14913b3",
   "metadata": {},
   "outputs": [],
   "source": [
    "import sqlite3\n",
    "import pandas as pd"
   ]
  },
  {
   "cell_type": "code",
   "execution_count": null,
   "id": "3d9d3a62-ecb4-4b5b-b2d0-d3dcbbfe89f4",
   "metadata": {},
   "outputs": [],
   "source": [
    "connection = sqlite3.connect(\":memory:\")\n",
    "cursor = connection.cursor()\n",
    "\n",
    "cursor.execute(\"\"\"\n",
    "CREATE TABLE properties (\n",
    "  feature_id INTEGER PRIMARY KEY AUTOINCREMENT,\n",
    "  name TEXT\n",
    ")\n",
    "\"\"\")\n",
    "\n",
    "cursor.execute(\"\"\"\n",
    "CREATE TABLE coordinates (\n",
    "  id INTEGER PRIMARY KEY AUTOINCREMENT,\n",
    "  feature_id INTEGER,\n",
    "  longitude REAL,\n",
    "  latitude REAL,\n",
    "  point_index INTEGER,\n",
    "  FOREIGN KEY(feature_id) REFERENCES properties(feature_id)\n",
    ")\n",
    "\"\"\")\n",
    "\n",
    "for feature in geojson[\"features\"]:\n",
    "    cursor.execute(\"INSERT INTO properties (name) VALUES (?)\", [feature[\"properties\"][\"name\"]])\n",
    "    feature_id = cursor.lastrowid\n",
    "    outer_ring = feature[\"geometry\"][\"coordinates\"][0]\n",
    "    for point_index, (longitude, latitude) in enumerate(outer_ring):\n",
    "        cursor.execute(\n",
    "            \"INSERT INTO coordinates (feature_id, longitude, latitude, point_index) VALUES (?, ?, ?, ?)\",\n",
    "            [feature_id, longitude, latitude, point_index],\n",
    "        )\n",
    "\n",
    "connection.commit()"
   ]
  },
  {
   "cell_type": "code",
   "execution_count": null,
   "id": "7b879d9e-06c6-4b36-ab29-7d1b7d6940d9",
   "metadata": {},
   "outputs": [],
   "source": [
    "pd.read_sql_query(\"SELECT * FROM properties\", connection).set_index(\"feature_id\")"
   ]
  },
  {
   "cell_type": "code",
   "execution_count": null,
   "id": "53b1ca58-ca24-4823-b6f7-94e22b5c0cf8",
   "metadata": {},
   "outputs": [],
   "source": [
    "pd.read_sql_query(\"SELECT * FROM coordinates\", connection).set_index(\"id\")"
   ]
  },
  {
   "cell_type": "markdown",
   "id": "37db4542-563a-43d0-91f3-c1811bf36f30",
   "metadata": {},
   "source": [
    "But some operations are now much more complicated.\n",
    "\n",
    "What if you want to compute the area of each polygon?"
   ]
  },
  {
   "cell_type": "markdown",
   "id": "d267c39e-7209-49b4-b00c-ae016f9658bc",
   "metadata": {},
   "source": [
    "<br><br><br>"
   ]
  },
  {
   "cell_type": "markdown",
   "id": "885ac85c-f512-4015-87f5-9bd2ef390370",
   "metadata": {},
   "source": [
    "We want arbitrary data structure with array-oriented interface and performance...\n",
    "\n",
    "![](../img/awkward-motivation-venn-diagram.svg)"
   ]
  },
  {
   "cell_type": "markdown",
   "id": "820c9497-1392-4314-abae-d57a7af8e627",
   "metadata": {},
   "source": [
    "<br><br><br>"
   ]
  },
  {
   "cell_type": "markdown",
   "id": "063009ef-fe8c-4e33-90ea-42daacf27c56",
   "metadata": {},
   "source": [
    "## Libraries for irregular arrays"
   ]
  },
  {
   "cell_type": "markdown",
   "id": "4d36ea71-7e15-4556-a126-3ce380c740a2",
   "metadata": {},
   "source": [
    "<br><br><br>"
   ]
  },
  {
   "cell_type": "markdown",
   "id": "d83cf239-6c6c-4f53-b8ed-b411cb903558",
   "metadata": {},
   "source": [
    "![](../img/logo-arrow.svg)\n",
    "\n",
    "In-memory format and an ecosystem of tools, an \"exploded database\" (database functionality provided as interchangeable pieces). Strong focus on delivering data, zero-copy, between processes."
   ]
  },
  {
   "cell_type": "code",
   "execution_count": null,
   "id": "9ba761df-b51d-43ee-8afd-f1d57361db4d",
   "metadata": {},
   "outputs": [],
   "source": [
    "import pyarrow as pa"
   ]
  },
  {
   "cell_type": "code",
   "execution_count": null,
   "id": "ce145170-8234-49e9-a996-5d8f806e1e57",
   "metadata": {},
   "outputs": [],
   "source": [
    "arrow_array = pa.array([\n",
    "    [{\"x\": 1.1, \"y\": [1]}, {\"x\": 2.2, \"y\": [1, 2]}, {\"x\": 3.3, \"y\": [1, 2, 3]}],\n",
    "    [],\n",
    "    [{\"x\": 4.4, \"y\": [1, 2, 3, 4]}, {\"x\": 5.5, \"y\": [1, 2, 3, 4, 5]}]\n",
    "])"
   ]
  },
  {
   "cell_type": "code",
   "execution_count": null,
   "id": "d6fe8942-113e-4211-9671-cd1dd06f3d5c",
   "metadata": {},
   "outputs": [],
   "source": [
    "arrow_array.type"
   ]
  },
  {
   "cell_type": "code",
   "execution_count": null,
   "id": "38ff43e7-89a0-4bf1-a8b7-646df6705ce0",
   "metadata": {},
   "outputs": [],
   "source": [
    "arrow_array"
   ]
  },
  {
   "cell_type": "markdown",
   "id": "dc87cc36-cadf-4040-92cb-c222f7d0a511",
   "metadata": {},
   "source": [
    "<br><br><br>"
   ]
  },
  {
   "cell_type": "markdown",
   "id": "79211fd9-88e9-4681-86a9-98089b708017",
   "metadata": {},
   "source": [
    "![](../img/logo-awkward.svg)\n",
    "\n",
    "Library for array-oriented programming like NumPy, but for arbitrary data structures. Interconvertible with Arrow and Parquet."
   ]
  },
  {
   "cell_type": "code",
   "execution_count": null,
   "id": "69e13b64-3c0c-4912-99b3-6e020c00d048",
   "metadata": {},
   "outputs": [],
   "source": [
    "import awkward as ak"
   ]
  },
  {
   "cell_type": "code",
   "execution_count": null,
   "id": "6c109c5d-eaa3-4c56-b3a6-5cd0a580bed3",
   "metadata": {},
   "outputs": [],
   "source": [
    "awkward_array = ak.from_arrow(arrow_array)\n",
    "awkward_array"
   ]
  },
  {
   "cell_type": "markdown",
   "id": "fffd7929-fb49-41d9-b530-f37f10eb8957",
   "metadata": {},
   "source": [
    "<br><br><br>"
   ]
  },
  {
   "cell_type": "markdown",
   "id": "5ed66139-8470-42fb-9e31-0bcd58ab835e",
   "metadata": {},
   "source": [
    "![](../img/logo-parquet.svg)\n",
    "\n",
    "Disk format for storing large datasets and (selectively) retrieving them."
   ]
  },
  {
   "cell_type": "code",
   "execution_count": null,
   "id": "f862d4bd-3c13-4eaa-81c5-a3441f88356b",
   "metadata": {},
   "outputs": [],
   "source": [
    "ak.to_parquet(awkward_array, \"/tmp/file.parquet\")"
   ]
  },
  {
   "cell_type": "code",
   "execution_count": null,
   "id": "daecb845-ac5b-47ca-b5d3-fd875519a1b3",
   "metadata": {},
   "outputs": [],
   "source": [
    "ak.from_parquet(\"/tmp/file.parquet\")"
   ]
  },
  {
   "cell_type": "markdown",
   "id": "f74653b8-997a-4c35-9fe9-265eb0342d5d",
   "metadata": {},
   "source": [
    "<br><br><br>"
   ]
  },
  {
   "cell_type": "markdown",
   "id": "aa21cc14-8e81-4bd4-afc9-82d2f299e7e3",
   "metadata": {},
   "source": [
    "## Data analysis in Awkward Array"
   ]
  },
  {
   "cell_type": "code",
   "execution_count": null,
   "id": "7d5f2956-372a-4840-9ecd-2edc99381a23",
   "metadata": {},
   "outputs": [],
   "source": [
    "ragged = ak.Array([\n",
    "    [\n",
    "      [[1.84, 0.324]],\n",
    "      [[-1.609, -0.713, 0.005], [0.953, -0.993, 0.011, 0.718]],\n",
    "      [[0.459, -1.517, 1.545], [0.33, 0.292]],\n",
    "      [[-0.376, -1.46, -0.206], [0.65, 1.278]],\n",
    "      [[], [], [1.617]],\n",
    "      []\n",
    "    ],\n",
    "    [\n",
    "      [[-0.106, 0.611]],\n",
    "      [[0.118, -1.788, 0.794, 0.658], [-0.105]]\n",
    "    ],\n",
    "    [\n",
    "      [[-0.384], [0.697, -0.856]],\n",
    "      [[0.778, 0.023, -1.455, -2.289], [-0.67], [1.153, -1.669, 0.305, 1.517, -0.292]]\n",
    "    ],\n",
    "    [\n",
    "      [[0.205, -0.355], [-0.265], [1.042]],\n",
    "      [[-0.004], [-1.167, -0.054, 0.726, 0.213]],\n",
    "      [[1.741, -0.199, 0.827]]\n",
    "    ]\n",
    "])"
   ]
  },
  {
   "cell_type": "markdown",
   "id": "edbaa368-7b91-4643-92d8-86ed9aa5ea60",
   "metadata": {},
   "source": [
    "<br><br><br>"
   ]
  },
  {
   "cell_type": "markdown",
   "id": "a763ec11-d3a9-4e1b-ac68-ae4d4e935bee",
   "metadata": {
    "slideshow": {
     "slide_type": "slide"
    },
    "tags": []
   },
   "source": [
    "**Multidimensional indexing**"
   ]
  },
  {
   "cell_type": "code",
   "execution_count": null,
   "id": "e3f3bfdd-f0e1-4d80-9c19-b1ae2f43d568",
   "metadata": {
    "tags": []
   },
   "outputs": [],
   "source": [
    "ragged[3, 1, -1, 2]"
   ]
  },
  {
   "cell_type": "markdown",
   "id": "067e1a0d-ffcb-42b9-8fa4-a7560189a14d",
   "metadata": {},
   "source": [
    "<br><br><br>"
   ]
  },
  {
   "cell_type": "markdown",
   "id": "570c06eb-a5d6-4fda-975d-21b375a45e44",
   "metadata": {},
   "source": [
    "**Basic slicing**"
   ]
  },
  {
   "cell_type": "code",
   "execution_count": null,
   "id": "45ff5fee-a423-4740-b105-8cdd45bd6a70",
   "metadata": {
    "tags": []
   },
   "outputs": [],
   "source": [
    "ragged[3, 1:, -1, 1:3]"
   ]
  },
  {
   "cell_type": "markdown",
   "id": "b9fb99fc-de37-4d82-9775-c7398d55711b",
   "metadata": {},
   "source": [
    "<br><br><br>"
   ]
  },
  {
   "cell_type": "markdown",
   "id": "2c5ca676-4a01-46c4-b325-e8d96adeb3d0",
   "metadata": {},
   "source": [
    "**Advanced slicing**"
   ]
  },
  {
   "cell_type": "code",
   "execution_count": null,
   "id": "f9a3f85b-83f1-4ec3-a444-554d5a4db452",
   "metadata": {
    "tags": []
   },
   "outputs": [],
   "source": [
    "ragged[[False, False, True, True], [0, -1, 0, -1], 0, -1]"
   ]
  },
  {
   "cell_type": "markdown",
   "id": "41c57eab-129c-4d25-a31e-e8417beddd1f",
   "metadata": {},
   "source": [
    "<br><br><br>"
   ]
  },
  {
   "cell_type": "markdown",
   "id": "18e92bc0-e7a6-4de4-abee-5da10fa4e4c8",
   "metadata": {
    "slideshow": {
     "slide_type": "slide"
    },
    "tags": []
   },
   "source": [
    "**Awkward slicing**"
   ]
  },
  {
   "cell_type": "code",
   "execution_count": null,
   "id": "43288929-bdd2-42d2-9852-99872c80e1b3",
   "metadata": {
    "tags": []
   },
   "outputs": [],
   "source": [
    "ragged > 0"
   ]
  },
  {
   "cell_type": "code",
   "execution_count": null,
   "id": "e7448cf2-5f70-45d3-b242-b85e21bb4073",
   "metadata": {
    "tags": []
   },
   "outputs": [],
   "source": [
    "ragged[ragged > 0]"
   ]
  },
  {
   "cell_type": "markdown",
   "id": "b296b60e-5cd6-4fc6-8fdc-34a9c8af7b39",
   "metadata": {},
   "source": [
    "<br><br><br>"
   ]
  },
  {
   "cell_type": "markdown",
   "id": "abacf670-c65f-41f9-a65c-a93cf4c2c6fb",
   "metadata": {
    "slideshow": {
     "slide_type": "slide"
    },
    "tags": []
   },
   "source": [
    "**Reductions**"
   ]
  },
  {
   "cell_type": "code",
   "execution_count": null,
   "id": "fe34c69b-3746-4498-a4e9-e7f6acff6ebf",
   "metadata": {
    "tags": []
   },
   "outputs": [],
   "source": [
    "ak.sum(ragged)"
   ]
  },
  {
   "cell_type": "code",
   "execution_count": null,
   "id": "3d974a4f-2dd3-4da9-9e36-4f3a56dbd4df",
   "metadata": {
    "tags": []
   },
   "outputs": [],
   "source": [
    "ak.sum(ragged, axis=-1)"
   ]
  },
  {
   "cell_type": "code",
   "execution_count": null,
   "id": "c0a67275-e91b-4e9e-9923-b81ecc3bfa92",
   "metadata": {
    "tags": []
   },
   "outputs": [],
   "source": [
    "ak.sum(ragged, axis=0)"
   ]
  },
  {
   "cell_type": "markdown",
   "id": "3918e9f3-358e-4e52-a713-cb63f64bc982",
   "metadata": {},
   "source": [
    "<br><br><br>"
   ]
  },
  {
   "cell_type": "markdown",
   "id": "a5201240-1f24-46ec-829a-ae46cf46eaf9",
   "metadata": {},
   "source": [
    "How are reductions even defined for ragged arrays?\n",
    "\n",
    "![](../img/example-reducer-2d.svg)"
   ]
  },
  {
   "cell_type": "code",
   "execution_count": null,
   "id": "601e794e-e5af-4699-8ca3-4f53bb189c3f",
   "metadata": {},
   "outputs": [],
   "source": [
    "import numpy as np"
   ]
  },
  {
   "cell_type": "code",
   "execution_count": null,
   "id": "2d48c8c4-cf89-47b5-9c3e-3093ece87e66",
   "metadata": {},
   "outputs": [],
   "source": [
    "regular = np.array([\n",
    "    [  1,   2,   3,   4],\n",
    "    [ 10,  20,  30,  40],\n",
    "    [100, 200, 300, 400],\n",
    "])"
   ]
  },
  {
   "cell_type": "code",
   "execution_count": null,
   "id": "99659269-3cdd-47e2-93ac-a98b1423911b",
   "metadata": {},
   "outputs": [],
   "source": [
    "np.sum(regular, axis=0)"
   ]
  },
  {
   "cell_type": "code",
   "execution_count": null,
   "id": "7a44354c-bf2f-45af-8a3c-ea3456f10242",
   "metadata": {},
   "outputs": [],
   "source": [
    "np.sum(regular, axis=1)"
   ]
  },
  {
   "cell_type": "markdown",
   "id": "1a91d104-b897-47bd-9877-c61f828d90dd",
   "metadata": {},
   "source": [
    "<br><br><br>"
   ]
  },
  {
   "cell_type": "markdown",
   "id": "bd72b809-5b53-4fc6-892c-820ad5d488c1",
   "metadata": {},
   "source": [
    "Assume all variable-length lists are left-justified."
   ]
  },
  {
   "cell_type": "markdown",
   "id": "08f79a79-8cd2-481e-86f1-0abaa322dcc7",
   "metadata": {},
   "source": [
    "![](../img/example-reduction-sum.svg)"
   ]
  },
  {
   "cell_type": "code",
   "execution_count": null,
   "id": "b85ab2e4-8d6b-46b5-98e1-dba78a5cc719",
   "metadata": {},
   "outputs": [],
   "source": [
    "irregular = ak.Array([\n",
    "    [   1,    2,    4],\n",
    "    [                ],\n",
    "    [None,    8      ],\n",
    "    [  16            ],\n",
    "])"
   ]
  },
  {
   "cell_type": "code",
   "execution_count": null,
   "id": "2632283e-edd7-4caf-ad07-33d8919b5a7e",
   "metadata": {},
   "outputs": [],
   "source": [
    "ak.sum(irregular, axis=0)"
   ]
  },
  {
   "cell_type": "code",
   "execution_count": null,
   "id": "c646a912-725f-4a56-8ebc-b6c2d4f4f19a",
   "metadata": {},
   "outputs": [],
   "source": [
    "ak.sum(irregular, axis=1)"
   ]
  },
  {
   "cell_type": "markdown",
   "id": "4e4e11e0-3802-4efa-a6ab-f6ed7e401f11",
   "metadata": {},
   "source": [
    "<br><br><br>"
   ]
  },
  {
   "cell_type": "markdown",
   "id": "171f6ee4-ffa1-48e2-911e-ed761ec0f9f1",
   "metadata": {
    "slideshow": {
     "slide_type": "slide"
    },
    "tags": []
   },
   "source": [
    "**Elementwise formulas**"
   ]
  },
  {
   "cell_type": "code",
   "execution_count": null,
   "id": "af70455d-356a-4a08-a7ac-02137321cfa1",
   "metadata": {},
   "outputs": [],
   "source": [
    "svg_paths = ak.Array([\n",
    "  {\"fill\": \"#b1b1b1\", \"stroke\": \"none\", \"points\": [{\"x\": 5.27453, \"y\": 1.03276},\n",
    "    {\"x\": -3.51280, \"y\": 1.74849}]},\n",
    "  {\"fill\": \"#b1b1b1\", \"stroke\": \"none\", \"points\": [{\"x\": 8.21630, \"y\": 4.07844},\n",
    "    {\"x\": -0.79157, \"y\": 3.49478}, {\"x\": 16.38932, \"y\": 5.29399},\n",
    "    {\"x\": 10.38641, \"y\": 0.10832}, {\"x\": -2.07070, \"y\": 14.07140},\n",
    "    {\"x\": 9.57021, \"y\": -0.94823}, {\"x\": 1.97332, \"y\": 3.62380},\n",
    "    {\"x\": 5.66760, \"y\": 11.38001}, {\"x\": 0.25497, \"y\": 3.39276},\n",
    "    {\"x\": 3.86585, \"y\": 6.22051}, {\"x\": -0.67393, \"y\": 2.20572}]},\n",
    "  {\"fill\": \"#d0d0ff\", \"stroke\": \"none\", \"points\": [{\"x\": 3.59528, \"y\": 7.37191},\n",
    "    {\"x\": 0.59192, \"y\": 2.91503}, {\"x\": 4.02932, \"y\": -1.13601},\n",
    "    {\"x\": -1.01593, \"y\": 1.95894}, {\"x\": 1.03666, \"y\": 0.05251}]},\n",
    "  {\"fill\": \"#d0d0ff\", \"stroke\": \"none\", \"points\": [{\"x\": -8.78510, \"y\": -0.00497},\n",
    "    {\"x\": -15.22688, \"y\": 3.90244}, {\"x\": 5.74593, \"y\": 4.12718}]},\n",
    "  {\"fill\": \"none\", \"stroke\": \"#000000\", \"points\": [{\"x\": 4.40625, \"y\": -6.953125},\n",
    "    {\"x\": 4.34375, \"y\": -7.09375}, {\"x\": 4.3125, \"y\": -7.140625},\n",
    "    {\"x\": 4.140625, \"y\": -7.140625}]},\n",
    "  {\"fill\": \"none\", \"stroke\": \"#808080\", \"points\": [{\"x\": 0.46875, \"y\": -0.09375},\n",
    "    {\"x\": 0.46875, \"y\": -0.078125}, {\"x\": 0.46875, \"y\": 0.53125}]}\n",
    "])"
   ]
  },
  {
   "cell_type": "code",
   "execution_count": null,
   "id": "e24de5a3-c193-4bcc-bd3c-ec794512afab",
   "metadata": {
    "tags": []
   },
   "outputs": [],
   "source": [
    "np.sqrt(svg_paths[\"points\", \"x\"]**2 + svg_paths[\"points\", \"y\"]**2)"
   ]
  },
  {
   "cell_type": "markdown",
   "id": "298ed81d-3ef5-4f22-ae69-78eafebac49e",
   "metadata": {},
   "source": [
    "<br><br><br>"
   ]
  },
  {
   "cell_type": "markdown",
   "id": "930219da-7f33-4f54-a606-ed16b1616dad",
   "metadata": {},
   "source": [
    "## How to think in Awkward Arrays"
   ]
  },
  {
   "cell_type": "markdown",
   "id": "ccd0d5cd-effa-4f53-be07-a8f7d2526a2e",
   "metadata": {},
   "source": [
    "We'll be getting to the challenge exercise soon. But first, let's do one together."
   ]
  },
  {
   "cell_type": "markdown",
   "id": "eb44b94b-673e-4085-ae62-8d556426a5e8",
   "metadata": {},
   "source": [
    "<br><br><br>"
   ]
  },
  {
   "cell_type": "markdown",
   "id": "784f4e6a-1570-4c47-af4a-be3f8984a34a",
   "metadata": {},
   "source": [
    "Given the following dataset:"
   ]
  },
  {
   "cell_type": "code",
   "execution_count": null,
   "id": "c663ef8b-b95b-4adb-8b72-42304c9a4a21",
   "metadata": {},
   "outputs": [],
   "source": [
    "sam_raimi_movies = ak.Array([\n",
    "    {\"movie\": \"Evil Dead\", \"year\": 1981, \"actors\":\n",
    "        [\"Bruce Campbell\", \"Ellen Sandweiss\", \"Richard DeManincor\", \"Betsy Baker\"]\n",
    "    },\n",
    "    {\"movie\": \"Darkman\", \"year\": 1900, \"actors\":\n",
    "        [\"Liam Neeson\", \"Frances McDormand\", \"Larry Drake\", \"Bruce Campbell\"]\n",
    "    },\n",
    "    {\"movie\": \"Army of Darkness\", \"year\": 1992, \"actors\":\n",
    "        [\"Bruce Campbell\", \"Embeth Davidtz\", \"Marcus Gilbert\", \"Bridget Fonda\",\n",
    "         \"Ted Raimi\", \"Patricia Tallman\"]\n",
    "    },\n",
    "    {\"movie\": \"A Simple Plan\", \"year\": 1998, \"actors\":\n",
    "        [\"Bill Paxton\", \"Billy Bob Thornton\", \"Bridget Fonda\", \"Brent Briscoe\"]\n",
    "    },\n",
    "    {\"movie\": \"Spider-Man 2\", \"year\": 2004, \"actors\":\n",
    "        [\"Tobey Maguire\", \"Kristen Dunst\", \"Alfred Molina\", \"James Franco\",\n",
    "         \"Rosemary Harris\", \"J.K. Simmons\", \"Stan Lee\", \"Bruce Campbell\"]\n",
    "    },\n",
    "    {\"movie\": \"Drag Me to Hell\", \"year\": 2009, \"actors\":\n",
    "        [\"Alison Lohman\", \"Justin Long\", \"Lorna Raver\", \"Dileep Rao\", \"David Paymer\"]\n",
    "    }\n",
    "])"
   ]
  },
  {
   "cell_type": "markdown",
   "id": "41156c4f-0be8-487c-97c5-0668a54d8e88",
   "metadata": {},
   "source": [
    "Select movies that do _not_ contain `\"Bruce Campbell\"`.\n",
    "\n",
    "See [ak.all](https://awkward-array.org/doc/main/reference/generated/ak.all.html), [ak.any](https://awkward-array.org/doc/main/reference/generated/ak.any.html), [np.invert](https://numpy.org/doc/stable/reference/generated/numpy.invert.html), and [ak.num](https://awkward-array.org/doc/main/reference/generated/ak.num.html)."
   ]
  },
  {
   "cell_type": "markdown",
   "id": "be6561cc-b530-487d-aa60-182fe8d85b3d",
   "metadata": {},
   "source": [
    "<br><br><br>"
   ]
  },
  {
   "cell_type": "code",
   "execution_count": null,
   "id": "d42570b8-bcf1-4e02-8a95-ec5a94b03f43",
   "metadata": {},
   "outputs": [],
   "source": [
    "is_bruce_campbell = (sam_raimi_movies[\"actors\"] == \"Bruce Campbell\")\n",
    "is_bruce_campbell"
   ]
  },
  {
   "cell_type": "markdown",
   "id": "10938638-2e48-40b0-8cee-46703956b4c1",
   "metadata": {},
   "source": [
    "<br><br><br>"
   ]
  },
  {
   "cell_type": "code",
   "execution_count": null,
   "id": "8974d194-8b9e-4c58-9e0a-ce51726a7596",
   "metadata": {},
   "outputs": [],
   "source": [
    "all_not_bruce_campbell = ak.all(~is_bruce_campbell, axis=1)\n",
    "all_not_bruce_campbell"
   ]
  },
  {
   "cell_type": "markdown",
   "id": "35a386ca-a763-4e29-948c-1f967b5b27fc",
   "metadata": {},
   "source": [
    "<br><br><br>"
   ]
  },
  {
   "cell_type": "code",
   "execution_count": null,
   "id": "1544291a-b2d3-44a2-8e57-64c5e97d73da",
   "metadata": {},
   "outputs": [],
   "source": [
    "sam_raimi_movies[all_not_bruce_campbell]"
   ]
  },
  {
   "cell_type": "markdown",
   "id": "5c71d155-d193-44c5-a2f3-723e6f124a55",
   "metadata": {},
   "source": [
    "<br><br><br>"
   ]
  },
  {
   "cell_type": "markdown",
   "id": "b7487d1a-5cfc-4e6f-a8bb-3c5a2fc80e4c",
   "metadata": {},
   "source": [
    "On to the [project.ipynb](project.ipynb)!"
   ]
  }
 ],
 "metadata": {
  "kernelspec": {
   "display_name": "Python 3 (ipykernel)",
   "language": "python",
   "name": "python3"
  },
  "language_info": {
   "codemirror_mode": {
    "name": "ipython",
    "version": 3
   },
   "file_extension": ".py",
   "mimetype": "text/x-python",
   "name": "python",
   "nbconvert_exporter": "python",
   "pygments_lexer": "ipython3",
   "version": "3.12.11"
  }
 },
 "nbformat": 4,
 "nbformat_minor": 5
}
