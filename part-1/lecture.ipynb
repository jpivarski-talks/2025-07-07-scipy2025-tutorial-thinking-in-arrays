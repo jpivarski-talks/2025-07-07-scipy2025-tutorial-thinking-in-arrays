{
 "cells": [
  {
   "cell_type": "markdown",
   "id": "953a27ba-8555-4629-958a-68aac610dc7b",
   "metadata": {},
   "source": [
    "# Part 1: Array-oriented programming"
   ]
  },
  {
   "cell_type": "markdown",
   "id": "2ac697d7-c283-425a-b8c2-6fc26762bdc5",
   "metadata": {},
   "source": [
    "<br><br><br>"
   ]
  },
  {
   "cell_type": "markdown",
   "id": "d99134e7-844f-43be-baa7-f4f3780e2137",
   "metadata": {},
   "source": [
    "## Programming paradigms"
   ]
  },
  {
   "cell_type": "markdown",
   "id": "6f19df19-b924-43aa-beaf-12108de5b8bd",
   "metadata": {},
   "source": [
    "Programming paradigms are rough classifications of styles of programming."
   ]
  },
  {
   "cell_type": "markdown",
   "id": "2fb8001e-72bb-41ed-afde-8b66935d9766",
   "metadata": {},
   "source": [
    "<br><br><br>"
   ]
  },
  {
   "cell_type": "markdown",
   "id": "58d4443e-472e-4e0f-a859-94dc1600479a",
   "metadata": {},
   "source": [
    "Some examples that you may have heard of:\n",
    "\n",
    "| Paradigm | Description | Languages | Emphasizes |\n",
    "|:--:|:---|:--:|:--:|\n",
    "| Structured programming | Use `if`, `for`, and `while` instead of `goto` everywhere. | _(nearly all)_ | Program flow |\n",
    "| Procedural programming | Define subprograms or \"procedures\" that are today called \"functions\". | _(nearly all)_  | Distinct tasks |\n",
    "| Object-oriented programming | Data structures are bundled with the functions that act on them, called \"classes\", to make the distinction between subsystems more clear. | Python, Java, C++ | Distinct subsystems |\n",
    "| Actor-based programming | Objects can only be modified through methods, which are concurrent queues. Intended for parallel programming; object-oriented developed out of this as a simplification. | Erlang | Temporal locality |\n",
    "| Imperative programming | Every statement is an instruction that changes the state of the computer. | Python, Java, C | Low-level algorithms |\n",
    "| Functional programming | Every function and every expression has a return value. | Lisp, F#, OCaml | Data transformations |\n",
    "| Strict functional programming | Doesn't allow data structures to change after they're created; all results of a program must be through return values. | Haskell, Elm | Data transformations and nothing else |\n",
    "| Reactive programming | Relationships between variables are automatically maintained, often used to keep data displayed by a web app up-to-date. | React.js, Svelte, Elm | Model-view separation |\n",
    "| Declarative programming | Specify what to do, rather than how to do it. | HTML, CSS, YAML, SQL | Stateless documents or queries |\n",
    "| Logic programming | Programs are logical statements, constraints, and queries, which are automatically deduced. | Prolog | Mathematical proofs |\n",
    "| Literate programming | Interleave code with human-readable text for instruction. | Jupyter, Python docstrings | Communication between humans |"
   ]
  },
  {
   "cell_type": "markdown",
   "id": "ec52aa84-f2a9-43d8-9dfc-adb656c890e3",
   "metadata": {},
   "source": [
    "<br><br><br>"
   ]
  },
  {
   "cell_type": "markdown",
   "id": "76a60004-9b73-4663-ae59-87a496384a7a",
   "metadata": {},
   "source": [
    "Most programming today is\n",
    "* structured,\n",
    "* procedural,\n",
    "* object-oriented, and\n",
    "* imperative.\n",
    "\n",
    "Strict functional programming is often used as an example of a _different_ paradigm."
   ]
  },
  {
   "cell_type": "markdown",
   "id": "0fa54135-7f1d-40fa-9d20-85a78b05d956",
   "metadata": {},
   "source": [
    "<br><br><br>"
   ]
  },
  {
   "cell_type": "markdown",
   "id": "39082287-5a34-4054-aa72-941692871f20",
   "metadata": {},
   "source": [
    "Here is a concrete example of **imperative** versus **functional**."
   ]
  },
  {
   "cell_type": "code",
   "execution_count": null,
   "id": "7c49f91f-7d23-4b2f-bf63-64eed6524e55",
   "metadata": {
    "slideshow": {
     "slide_type": "fragment"
    },
    "tags": []
   },
   "outputs": [],
   "source": [
    "import numpy as np"
   ]
  },
  {
   "cell_type": "markdown",
   "id": "2eea726a-1a96-4ff5-aecd-5dfcda8ef527",
   "metadata": {},
   "source": [
    "<br><br><br>"
   ]
  },
  {
   "cell_type": "markdown",
   "id": "778227da-41d5-4299-86d3-050e96ce45d3",
   "metadata": {},
   "source": [
    "**Imperatively** compute the square of each element of `input_data` and put it in `output_data`."
   ]
  },
  {
   "cell_type": "code",
   "execution_count": null,
   "id": "2eeab0cc-b9c8-4d61-bd77-692db3ddba80",
   "metadata": {},
   "outputs": [],
   "source": [
    "input_data = np.array([1, 2, 3, 4, 5, 6, 7, 8, 9])\n",
    "output_data = np.array([0, 0, 0, 0, 0, 0, 0, 0, 0])\n",
    "\n",
    "for i in range(len(input_data)):\n",
    "    output_data[i] = input_data[i]**2\n",
    "\n",
    "output_data"
   ]
  },
  {
   "cell_type": "markdown",
   "id": "786a9965-794e-4db6-b768-e221f2418391",
   "metadata": {},
   "source": [
    "<br><br><br>"
   ]
  },
  {
   "cell_type": "markdown",
   "id": "2cd125f9-d00e-4272-88ed-e62f1f7d101b",
   "metadata": {},
   "source": [
    "**Functionally** do the same:"
   ]
  },
  {
   "cell_type": "code",
   "execution_count": null,
   "id": "603a52c5-b66e-4242-b8ca-bf83d48797ea",
   "metadata": {},
   "outputs": [],
   "source": [
    "input_data = np.array([1, 2, 3, 4, 5, 6, 7, 8, 9])\n",
    "\n",
    "def square(x):\n",
    "    return x**2\n",
    "\n",
    "output_data = np.fromiter(map(square, input_data), int)\n",
    "\n",
    "output_data"
   ]
  },
  {
   "cell_type": "markdown",
   "id": "0d23037d-8334-432f-8304-72f1b76c2928",
   "metadata": {},
   "source": [
    "<br><br><br>"
   ]
  },
  {
   "cell_type": "markdown",
   "id": "c00f1ab9-1e4c-4c5f-a5b6-76b95171d155",
   "metadata": {},
   "source": [
    "Python has built-in syntax for some functional operations without making the functions explicit:"
   ]
  },
  {
   "cell_type": "code",
   "execution_count": null,
   "id": "9787c30e-d136-4515-ac6d-c72474bbecf3",
   "metadata": {},
   "outputs": [],
   "source": [
    "input_data = np.array([1, 2, 3, 4, 5, 6, 7, 8, 9])\n",
    "\n",
    "output_data = np.asarray([x**2 for x in input_data])\n",
    "\n",
    "output_data"
   ]
  },
  {
   "cell_type": "markdown",
   "id": "bb07aedc-98fb-4692-8c85-76ed017cc046",
   "metadata": {},
   "source": [
    "<br><br><br>"
   ]
  },
  {
   "cell_type": "markdown",
   "id": "fdca76ba-7856-4697-b42f-8e8a3e079529",
   "metadata": {},
   "source": [
    "**Array-oriented programming** is like **functional**, but a little different."
   ]
  },
  {
   "cell_type": "code",
   "execution_count": null,
   "id": "fe0a4d53-8b05-4904-a0d0-369bea0ffa35",
   "metadata": {},
   "outputs": [],
   "source": [
    "input_data = np.array([1, 2, 3, 4, 5, 6, 7, 8, 9])\n",
    "\n",
    "output_data = input_data**2\n",
    "\n",
    "output_data"
   ]
  },
  {
   "cell_type": "markdown",
   "id": "596d51ed-784c-44fd-8fce-07243be2f506",
   "metadata": {},
   "source": [
    "<br><br><br>"
   ]
  },
  {
   "cell_type": "markdown",
   "id": "0b24464a-7a9c-4c21-a7b2-20c8a55ffcfa",
   "metadata": {},
   "source": [
    "| Array-oriented programming | Functional programming |\n",
    "|:--|:--|\n",
    "| Variables are whole arrays, not elements of an array. | Function arguments or dummy variables are individual elements. |\n",
    "| Sometimes encourages in-place operations (exceptions: JAX, Awkward Array). | In-place operations are either discouraged or forbidden. |\n",
    "| Emphasizes changes in _distributions_ of data. | Emphasizes changes in components of a data structure. |"
   ]
  },
  {
   "cell_type": "markdown",
   "id": "52603d29-faad-4866-88c7-ce2b732a3b5c",
   "metadata": {},
   "source": [
    "<br><br><br>"
   ]
  },
  {
   "cell_type": "markdown",
   "id": "45c4b9ea-d54e-4821-9bc4-51b94c1740e7",
   "metadata": {},
   "source": [
    "## Larger example"
   ]
  },
  {
   "cell_type": "markdown",
   "id": "1079a9af-9928-4ef1-8a06-dd0e0dd956e3",
   "metadata": {},
   "source": [
    "Differences in programming styles are easier to see in larger programs.\n",
    "\n",
    "Below is a calculation of gravitational forces between $n$ planets in 3 dimensions. Don't worry about the details; the point is to see the larger picture."
   ]
  },
  {
   "cell_type": "code",
   "execution_count": null,
   "id": "86f6d210-4d06-4e1c-a2ba-aa857e9d35f2",
   "metadata": {},
   "outputs": [],
   "source": [
    "m = np.array([100, 1, 1])   # sun and a double-planet (a 3-body problem)\n",
    "\n",
    "# initial position (x) and momentum (p)\n",
    "x = np.array([[0, 0, 0], [0, 0.9, 0], [0, 1.1, 0]])\n",
    "p = np.array([[0, 0, 0], [-13, 0, 0], [-10, 0, 0]])\n",
    "\n",
    "G = 1"
   ]
  },
  {
   "cell_type": "markdown",
   "id": "0adbde86-a2a4-4b97-8958-ddf79e1df4ce",
   "metadata": {},
   "source": [
    "<br><br><br>"
   ]
  },
  {
   "cell_type": "markdown",
   "id": "1725eded-cf6d-41c7-9c9a-8c9dd767a709",
   "metadata": {},
   "source": [
    "### Imperative"
   ]
  },
  {
   "cell_type": "code",
   "execution_count": null,
   "id": "20b0acbb-73ef-45df-94af-64ddf04fec36",
   "metadata": {},
   "outputs": [],
   "source": [
    "def imperative_forces(m, x, p):\n",
    "    total_force = np.zeros_like(x)\n",
    "\n",
    "    for i in range(len(x)):\n",
    "        for j in range(i + 1, len(x)):\n",
    "            if i != j:\n",
    "                mi, mj = m[i], m[j]\n",
    "                xi, xj = x[i], x[j]\n",
    "                pi, pj = p[i], p[j]\n",
    "                displacement = [\n",
    "                    xj[0] - xi[0],\n",
    "                    xj[1] - xi[1],\n",
    "                    xj[2] - xi[2],\n",
    "                ]\n",
    "                distance = np.sqrt(displacement[0]**2 + displacement[1]**2 + displacement[2]**2)\n",
    "                direction = [\n",
    "                    displacement[0] / distance,\n",
    "                    displacement[1] / distance,\n",
    "                    displacement[2] / distance,\n",
    "                ]\n",
    "                force = [\n",
    "                    G * mi * mj * direction[0] / distance**2,\n",
    "                    G * mi * mj * direction[1] / distance**2,\n",
    "                    G * mi * mj * direction[2] / distance**2,\n",
    "                ]\n",
    "                total_force[i, 0] += force[0]\n",
    "                total_force[i, 1] += force[1]\n",
    "                total_force[i, 2] += force[2]\n",
    "                total_force[j, 0] += -force[0]\n",
    "                total_force[j, 1] += -force[1]\n",
    "                total_force[j, 2] += -force[2]\n",
    "\n",
    "    return total_force"
   ]
  },
  {
   "cell_type": "markdown",
   "id": "4d6ebcbe-4d1a-43e1-8338-fc3ed21c1a39",
   "metadata": {},
   "source": [
    "<br><br><br>"
   ]
  },
  {
   "cell_type": "markdown",
   "id": "afccc60f-bdb3-40cb-9267-aa0eabdee368",
   "metadata": {},
   "source": [
    "### Functional"
   ]
  },
  {
   "cell_type": "code",
   "execution_count": null,
   "id": "9967546d-0841-491d-9975-2f3861c94ee5",
   "metadata": {},
   "outputs": [],
   "source": [
    "from functools import reduce\n",
    "from itertools import combinations"
   ]
  },
  {
   "cell_type": "code",
   "execution_count": null,
   "id": "febeb452-de0f-420f-b783-eb7cbe1660ed",
   "metadata": {},
   "outputs": [],
   "source": [
    "def functional_forces(m, x, p):\n",
    "    def negate(vector):\n",
    "        return [-a for a in vector]\n",
    "\n",
    "    def add(*vectors):\n",
    "        return [reduce(lambda a, b: a + b, components) for components in zip(*vectors)]\n",
    "\n",
    "    def subtract(vectorA, vectorB):\n",
    "        return add(vectorA, negate(vectorB))\n",
    "\n",
    "    def magnitude(vector):\n",
    "        return np.sqrt(reduce(lambda a, b: a + b, map(lambda a: a**2, vector)))\n",
    "\n",
    "    def force(mi, mj, xi, xj, pi, pj):\n",
    "        displacement = subtract(xi, xj)\n",
    "        distance = magnitude(displacement)\n",
    "        direction = [a / distance for a in displacement]\n",
    "        return [G * mi * mj * a / distance**2 for a in direction]\n",
    "\n",
    "    pairwise_forces = [\n",
    "        ((i, j), force(mi, mj, xi, xj, pi, pj))\n",
    "        for ((i, (mi, xi, pi)), (j, (mj, xj, pj))) in combinations(enumerate(zip(m, x, p)), 2)\n",
    "    ]\n",
    "\n",
    "    def partial_forces(pairwise_forces, i):\n",
    "        return (\n",
    "            [force for (_, check), force in pairwise_forces if i == check] +\n",
    "            [negate(force) for (check, _), force in pairwise_forces if i == check]\n",
    "        )\n",
    "\n",
    "    return np.array([add(*partial_forces(pairwise_forces, i)) for i in range(len(m))])"
   ]
  },
  {
   "cell_type": "markdown",
   "id": "b010f85c-7b3a-45c8-a85a-db7b754f5114",
   "metadata": {},
   "source": [
    "<br><br><br>"
   ]
  },
  {
   "cell_type": "markdown",
   "id": "decf98f0-c324-4e5c-819a-ddd584abb2c0",
   "metadata": {},
   "source": [
    "### Array-oriented"
   ]
  },
  {
   "cell_type": "code",
   "execution_count": null,
   "id": "bff2f73e-1362-4c92-978c-008f6f9c2dbf",
   "metadata": {},
   "outputs": [],
   "source": [
    "def array_forces(m, x, p):\n",
    "    i, j = np.triu_indices(len(x), k=1)\n",
    "    pw_displacement = x[j] - x[i]\n",
    "    pw_distance = np.sqrt(np.sum(pw_displacement**2, axis=-1))\n",
    "    pw_direction = pw_displacement / pw_distance[:, np.newaxis]\n",
    "    pw_force = G * m[i, np.newaxis] * m[j, np.newaxis] * pw_direction / pw_distance[:, np.newaxis]**2\n",
    "    total_force = np.zeros_like(x)\n",
    "    np.add.at(total_force, i, pw_force)\n",
    "    np.add.at(total_force, j, -pw_force)\n",
    "    return total_force"
   ]
  },
  {
   "cell_type": "markdown",
   "id": "d6e2490f-a8c6-4c07-abaf-d9cb293a65b9",
   "metadata": {},
   "source": [
    "<br><br><br>"
   ]
  },
  {
   "cell_type": "code",
   "execution_count": null,
   "id": "a5c19b2d-7b31-470a-b114-1b73b98048d2",
   "metadata": {},
   "outputs": [],
   "source": [
    "imperative_forces(m, x, p)"
   ]
  },
  {
   "cell_type": "code",
   "execution_count": null,
   "id": "1616b1f3-84a1-4ab1-828f-03ca0e7e833c",
   "metadata": {},
   "outputs": [],
   "source": [
    "functional_forces(m, x, p)"
   ]
  },
  {
   "cell_type": "code",
   "execution_count": null,
   "id": "db9fe607-79da-4349-afd8-acc65ecedc0e",
   "metadata": {},
   "outputs": [],
   "source": [
    "array_forces(m, x, p)"
   ]
  },
  {
   "cell_type": "markdown",
   "id": "023e6f6c-f187-4f13-a389-1e15a2b143a0",
   "metadata": {},
   "source": [
    "<br><br><br>"
   ]
  },
  {
   "cell_type": "markdown",
   "id": "f90da272-10d0-4662-8e42-b59bae6d6a29",
   "metadata": {},
   "source": [
    "Let's take a minute and scroll over the three implementations.\n",
    "\n",
    "What do you notice about them? _(Just shout out answers!)_"
   ]
  },
  {
   "cell_type": "markdown",
   "id": "550a555b-4309-422a-8def-bcb1a64cfc38",
   "metadata": {},
   "source": [
    "<br><br><br>"
   ]
  },
  {
   "cell_type": "markdown",
   "id": "c4511661-ab13-4c68-b061-27a96eecd6a6",
   "metadata": {},
   "source": [
    "### For fun, let's see them run"
   ]
  },
  {
   "cell_type": "code",
   "execution_count": null,
   "id": "060cb343-73ee-491c-a3dc-c4f4438f4113",
   "metadata": {},
   "outputs": [],
   "source": [
    "import matplotlib.pyplot as plt\n",
    "from matplotlib import animation\n",
    "from IPython.display import HTML"
   ]
  },
  {
   "cell_type": "code",
   "execution_count": null,
   "id": "ab646b1c-e4d3-44a2-ae7f-99480bd71ca4",
   "metadata": {},
   "outputs": [],
   "source": [
    "def array_step(m, x, p, dt):\n",
    "    # this is a numerically stable way of updating positions, momenta, and forces\n",
    "    p += array_forces(m, x, p) * (dt/2)    # half kick\n",
    "    x += p * dt / m[:, np.newaxis]         # full drift\n",
    "    p += array_forces(m, x, p) * (dt/2)    # half kick"
   ]
  },
  {
   "cell_type": "code",
   "execution_count": null,
   "id": "fdb01db1-cc6a-4bf6-bcb8-36aad7070e0d",
   "metadata": {},
   "outputs": [],
   "source": [
    "def plot(m, x, p, dt, num_frames=100, steps_per_frame=10):\n",
    "    num_particles = len(m)\n",
    "\n",
    "    history = np.empty((num_frames, num_particles, 2))\n",
    "    for i in range(num_frames):\n",
    "        history[i, :, 0] = x[:, 0]\n",
    "        history[i, :, 1] = x[:, 1]\n",
    "        for _ in range(steps_per_frame):\n",
    "            array_step(m, x, p, dt)\n",
    "\n",
    "    fig, ax = plt.subplots(figsize=(5, 5))\n",
    "\n",
    "    lines = []\n",
    "    for j in range(num_particles):\n",
    "        lines.append(ax.plot(history[:1, j, 0], history[:1, j, 1])[0])\n",
    "    dots = ax.scatter(history[0, :, 0], history[0, :, 1])\n",
    "\n",
    "    ax.set_xlim(-2, 2)\n",
    "    ax.set_ylim(-2, 2)\n",
    "\n",
    "    def update(i):\n",
    "        for j, line in enumerate(lines):\n",
    "            line.set_xdata(history[:i, j, 0])\n",
    "            line.set_ydata(history[:i, j, 1])\n",
    "        dots.set_offsets(history[i, :, :])\n",
    "        return [*lines, dots]\n",
    "\n",
    "    ani = animation.FuncAnimation(fig=fig, func=update, frames=num_frames, interval=50, blit=True)\n",
    "    out = HTML(ani.to_jshtml())\n",
    "    plt.close()\n",
    "    return out"
   ]
  },
  {
   "cell_type": "markdown",
   "id": "1a5e352d-8e37-47d4-820f-4c11b60dc735",
   "metadata": {},
   "source": [
    "**Sun, Earth, Moon:**"
   ]
  },
  {
   "cell_type": "code",
   "execution_count": null,
   "id": "e548822c-10fc-4fc7-a353-c576f8e0a8d8",
   "metadata": {},
   "outputs": [],
   "source": [
    "m = np.array([100, 1, 1], np.float64)\n",
    "x = np.array([[0, 0, 0], [0, 0.9, 0], [0, 1.1, 0]], np.float64)\n",
    "p = np.array([[0, 0, 0], [-13, 0, 0], [-10, 0, 0]], np.float64)\n",
    "\n",
    "plot(m, x, p, dt=0.001)"
   ]
  },
  {
   "cell_type": "markdown",
   "id": "93d054a5-de42-4482-8da1-59bf9d2978bb",
   "metadata": {},
   "source": [
    "**The three-body problem:**"
   ]
  },
  {
   "cell_type": "code",
   "execution_count": null,
   "id": "21804d27-1f79-4376-8c4c-83ab11503bd1",
   "metadata": {},
   "outputs": [],
   "source": [
    "a = 0.347111\n",
    "b = 0.532728\n",
    "m = np.array([1, 1, 1], np.float64)\n",
    "x = np.array([[-1, 0, 0], [1, 0, 0], [0, 0, 0]], np.float64)\n",
    "p = np.array([[a, b, 0], [a, b, 0], [-2 * a, -2 * b, 0]], np.float64)\n",
    "\n",
    "plot(m, x, p, dt=0.01)"
   ]
  },
  {
   "cell_type": "markdown",
   "id": "e766916e-73a5-4f14-960f-739d0019b367",
   "metadata": {},
   "source": [
    "**Chaos!**"
   ]
  },
  {
   "cell_type": "code",
   "execution_count": null,
   "id": "572779ba-fd67-44be-9ca9-9fa9890055d2",
   "metadata": {},
   "outputs": [],
   "source": [
    "m = np.ones(25)\n",
    "x = np.random.normal(0, 1, (25, 3))\n",
    "p = np.random.normal(0, 1, (25, 3))\n",
    "\n",
    "plot(m, x, p, dt=0.0025)"
   ]
  },
  {
   "cell_type": "markdown",
   "id": "39a919bc-413e-445e-819f-f609b57bd996",
   "metadata": {},
   "source": [
    "<br><br><br>"
   ]
  },
  {
   "cell_type": "markdown",
   "id": "2b99e57c-a9aa-42e0-8b99-42d7cf915830",
   "metadata": {},
   "source": [
    "### More seriously, let's time it"
   ]
  },
  {
   "cell_type": "code",
   "execution_count": null,
   "id": "48436df5-7432-4538-957c-30722b6cf16f",
   "metadata": {},
   "outputs": [],
   "source": [
    "m = np.ones(500)\n",
    "x = np.random.normal(0, 1, (500, 3))\n",
    "p = np.random.normal(0, 1, (500, 3))"
   ]
  },
  {
   "cell_type": "code",
   "execution_count": null,
   "id": "7bc1882c-246a-4ec6-82a8-8940a0fbdcb6",
   "metadata": {},
   "outputs": [],
   "source": [
    "%%timeit -n1 -r3\n",
    "\n",
    "imperative_forces(m, x, p)"
   ]
  },
  {
   "cell_type": "code",
   "execution_count": null,
   "id": "fc27f23b-7fee-4c28-a4ac-93da0f16b30b",
   "metadata": {},
   "outputs": [],
   "source": [
    "%%timeit -n1 -r3\n",
    "\n",
    "functional_forces(m, x, p)"
   ]
  },
  {
   "cell_type": "code",
   "execution_count": null,
   "id": "f0f8f395-27ec-4b13-8233-d0641f75229e",
   "metadata": {},
   "outputs": [],
   "source": [
    "%%timeit -n1 -r3\n",
    "\n",
    "array_forces(m, x, p)"
   ]
  },
  {
   "cell_type": "markdown",
   "id": "730bae53-1af2-4862-89a2-ce1aad89f5e2",
   "metadata": {},
   "source": [
    "<br><br><br>"
   ]
  },
  {
   "cell_type": "markdown",
   "id": "601c0614-d65a-4858-864f-866c84639d5f",
   "metadata": {},
   "source": [
    "| Implementation | Lines of Python | Python byte-code instructions | Scaling |\n",
    "|:--:|:--:|:--:|:--|\n",
    "| `imperative_forces` | 25 | 214 | for each of the 500×499 pairs of planets |\n",
    "| `functional_forces` | 12 | 100 | for each of the 500×499 pairs of planets |\n",
    "| `array_forces` | 9 | 103 | only once, not once per pair of planets |"
   ]
  },
  {
   "cell_type": "markdown",
   "id": "1eb9956c-7260-4725-ab1f-3e292318158d",
   "metadata": {},
   "source": [
    "<br><br><br>"
   ]
  },
  {
   "cell_type": "markdown",
   "id": "580fe84d-1ef1-461f-bbd4-b66dfa442b9b",
   "metadata": {},
   "source": [
    "Python's virtual machine, dynamic data types, garbage collection, etc. make stepping through a line of Python code much more time-consuming than a bare-metal machine code instruction. Managing stack frames when calling functions is even worse.\n",
    "\n",
    "The key thing is that array-oriented programming avoids this overhead in the part of the problem that scales: one Python function call can invoke a billion machine code instructions:"
   ]
  },
  {
   "cell_type": "code",
   "execution_count": null,
   "id": "adc4a10b-154d-404b-a02c-d64a0d53af0b",
   "metadata": {},
   "outputs": [],
   "source": [
    "def run(x):\n",
    "    return x + x"
   ]
  },
  {
   "cell_type": "code",
   "execution_count": null,
   "id": "84fe9321-c19f-45db-85b8-2e3b81de8a22",
   "metadata": {},
   "outputs": [],
   "source": [
    "big_array = np.empty(1_000_000_000)"
   ]
  },
  {
   "cell_type": "code",
   "execution_count": null,
   "id": "69bc5247-4cbf-4ff3-9364-123929aa6e2b",
   "metadata": {},
   "outputs": [],
   "source": [
    "run(big_array)"
   ]
  },
  {
   "cell_type": "markdown",
   "id": "30076856-81db-4364-8409-d94d7c41276a",
   "metadata": {},
   "source": [
    "<br><br><br>"
   ]
  },
  {
   "cell_type": "code",
   "execution_count": null,
   "id": "6f2456c6-9f7f-43d0-b979-f8b5177b9ef4",
   "metadata": {},
   "outputs": [],
   "source": [
    "import dis"
   ]
  },
  {
   "cell_type": "code",
   "execution_count": null,
   "id": "42f6fd25-11c1-4726-af54-c5729a883e7f",
   "metadata": {},
   "outputs": [],
   "source": [
    "dis.disassemble(run.__code__)"
   ]
  },
  {
   "cell_type": "markdown",
   "id": "ca938325-e480-47aa-b9df-e31988caa6d1",
   "metadata": {},
   "source": [
    "<br><br><br>"
   ]
  },
  {
   "cell_type": "markdown",
   "id": "775a29b6-b436-4dad-8cd2-1161d6fa40e4",
   "metadata": {},
   "source": [
    "You could see array-oriented programming as a work-around for Python being a \"slow language,\" but it's more general than that. It's equivalent to vectorization at a hardware level, so if you're programming GPUs in any language, you need to be \"thinking in arrays.\""
   ]
  },
  {
   "cell_type": "markdown",
   "id": "dc6f393c-6e95-4e6e-8ea0-47800b7c447a",
   "metadata": {},
   "source": [
    "<br><br><br>"
   ]
  },
  {
   "cell_type": "markdown",
   "id": "a75727a3-7a77-45e8-8b90-76e0b5184efc",
   "metadata": {},
   "source": [
    "Array-oriented programming is also a good fit, mentally, with doing data analysis.\n",
    "\n",
    "Of all the array-oriented languages and libraries that have ever existed, most of them have been intended for data analysis:\n",
    "\n",
    "![](../img/apl-timeline.svg)"
   ]
  },
  {
   "cell_type": "markdown",
   "id": "73f91e68-5eb6-4c6f-a818-9205376770ed",
   "metadata": {},
   "source": [
    "<br><br><br>"
   ]
  },
  {
   "cell_type": "markdown",
   "id": "67b2e372-6527-4f4e-91f7-8223a137f1e9",
   "metadata": {},
   "source": [
    "Consider: which of the following is the most idiomatic Pandas?"
   ]
  },
  {
   "cell_type": "code",
   "execution_count": null,
   "id": "72812cb5-bc60-4a2a-a563-9d2c527b32ec",
   "metadata": {},
   "outputs": [],
   "source": [
    "import pandas as pd\n",
    "\n",
    "df = pd.DataFrame({\"x\": np.random.normal(0, 1, 1000), \"y\": np.random.normal(0, 1, 1000)})"
   ]
  },
  {
   "cell_type": "markdown",
   "id": "decbcbc9-4303-46f5-b8df-24010bb31210",
   "metadata": {},
   "source": [
    "<br><br><br>"
   ]
  },
  {
   "cell_type": "markdown",
   "id": "7c0e84db-8c8f-43ae-8167-246b68e2bb72",
   "metadata": {},
   "source": [
    "This one?"
   ]
  },
  {
   "cell_type": "code",
   "execution_count": null,
   "id": "849e16e1-76bd-42e9-9198-e22973a53a53",
   "metadata": {},
   "outputs": [],
   "source": [
    "z = df[ df[\"x\"] > df[\"y\"] ][\"x\"]**2"
   ]
  },
  {
   "cell_type": "markdown",
   "id": "36aecca0-3cd0-45e0-b0e9-39bdb93e0f0d",
   "metadata": {},
   "source": [
    "Or this one?"
   ]
  },
  {
   "cell_type": "code",
   "execution_count": null,
   "id": "b4c453a9-bdaf-4d87-995c-d96bdcc1d46b",
   "metadata": {},
   "outputs": [],
   "source": [
    "z = df.query(\"x > y\")[\"x\"].apply(lambda x: x**2)"
   ]
  },
  {
   "cell_type": "markdown",
   "id": "82927b45-e58a-430b-8bbb-cd4c87b61730",
   "metadata": {},
   "source": [
    "Or this one?"
   ]
  },
  {
   "cell_type": "code",
   "execution_count": null,
   "id": "dde3f54a-2612-4b76-89a0-a7fbb27f2e3e",
   "metadata": {},
   "outputs": [],
   "source": [
    "z = []\n",
    "for row in df.itertuples():\n",
    "    if row.x > row.y:\n",
    "        z.append(row.x**2)"
   ]
  },
  {
   "cell_type": "markdown",
   "id": "c4713f11-77c7-47fa-8e17-ae95950e36d4",
   "metadata": {},
   "source": [
    "<br><br><br>"
   ]
  },
  {
   "cell_type": "markdown",
   "id": "f647f895-40b2-4a22-8a8f-0d390be25219",
   "metadata": {},
   "source": [
    "## How to think in arrays"
   ]
  },
  {
   "cell_type": "markdown",
   "id": "d8062d46-1af7-48cb-ab0d-f705e2d08c07",
   "metadata": {},
   "source": [
    "The best way to learn is by solving problems, so we should get to the first challenge exercise soon.\n",
    "\n",
    "Before that, let's do one together."
   ]
  },
  {
   "cell_type": "markdown",
   "id": "78c4a668-5f47-418a-b599-0b1838fe6edc",
   "metadata": {},
   "source": [
    "<br><br><br>"
   ]
  },
  {
   "cell_type": "markdown",
   "id": "daf23761-8c14-4709-ba1b-b1473354e7b0",
   "metadata": {},
   "source": [
    "Compute the length of the curve whose $x$, $y$ positions are given by arrays `x` and `y`:"
   ]
  },
  {
   "cell_type": "code",
   "execution_count": null,
   "id": "f667560b-363d-4a05-ba4c-c5313d61f609",
   "metadata": {},
   "outputs": [],
   "source": [
    "t = np.linspace(0, 2*np.pi, 10000)\n",
    "x = np.sin(3*t)\n",
    "y = np.sin(4*t)"
   ]
  },
  {
   "cell_type": "code",
   "execution_count": null,
   "id": "70ce2435-0ee8-4e64-a389-4e2529d0a7df",
   "metadata": {
    "tags": []
   },
   "outputs": [],
   "source": [
    "import matplotlib.pyplot as plt"
   ]
  },
  {
   "cell_type": "code",
   "execution_count": null,
   "id": "57f9ab2e-1f5a-426a-b45e-a959ed294f99",
   "metadata": {
    "slideshow": {
     "slide_type": "slide"
    },
    "tags": []
   },
   "outputs": [],
   "source": [
    "plt.plot(x, y);"
   ]
  },
  {
   "cell_type": "markdown",
   "id": "30260e1f-855b-4eb0-a333-4b3209f0f986",
   "metadata": {},
   "source": [
    "<br><br><br>"
   ]
  },
  {
   "cell_type": "markdown",
   "id": "1f3bf7c2-0d9a-4329-beb5-61ec2378cf78",
   "metadata": {},
   "source": [
    "Hint: the main steps of most array-oriented problems involve\n",
    "* slicing arrays to align relevant parts\n",
    "* mapping a single mathematical operation across all elements of equal-sized arrays\n",
    "* reducing an array to a scalar."
   ]
  },
  {
   "cell_type": "markdown",
   "id": "2dab919b-5d27-4685-92ce-86f54f0044d9",
   "metadata": {},
   "source": [
    "<br><br><br>"
   ]
  },
  {
   "cell_type": "markdown",
   "id": "0d29fe0c-71ae-436a-892a-6700cf42fb38",
   "metadata": {},
   "source": [
    "The formula for the length of a line segment is\n",
    "\n",
    "![](../img/length-by-segment.svg)\n",
    "\n",
    "You need to find the length of the whole line given by `x` and `y`."
   ]
  },
  {
   "cell_type": "markdown",
   "id": "f6daffa7-f024-4dd1-92a9-de323c2228bd",
   "metadata": {},
   "source": [
    "<br><br><br>"
   ]
  },
  {
   "cell_type": "code",
   "execution_count": null,
   "id": "4ce1070e-ac07-4a00-8993-264b96ac9fb8",
   "metadata": {},
   "outputs": [],
   "source": []
  },
  {
   "cell_type": "code",
   "execution_count": null,
   "id": "c5fb7f7d-c1da-49f8-8f99-e1f032321c22",
   "metadata": {},
   "outputs": [],
   "source": []
  },
  {
   "cell_type": "code",
   "execution_count": null,
   "id": "5adc97d5-4212-4b4b-bccc-5379a0e3f356",
   "metadata": {},
   "outputs": [],
   "source": []
  },
  {
   "cell_type": "markdown",
   "id": "0f2b7869-2578-4bfd-90bd-5b69ead7abca",
   "metadata": {},
   "source": [
    "<br><br><br>"
   ]
  },
  {
   "cell_type": "markdown",
   "id": "04b2ec64-df45-499d-b97b-c80c1403e410",
   "metadata": {},
   "source": [
    "When you're done, move on to [project.ipynb](project.ipynb)!"
   ]
  }
 ],
 "metadata": {
  "kernelspec": {
   "display_name": "Python 3 (ipykernel)",
   "language": "python",
   "name": "python3"
  },
  "language_info": {
   "codemirror_mode": {
    "name": "ipython",
    "version": 3
   },
   "file_extension": ".py",
   "mimetype": "text/x-python",
   "name": "python",
   "nbconvert_exporter": "python",
   "pygments_lexer": "ipython3",
   "version": "3.12.11"
  }
 },
 "nbformat": 4,
 "nbformat_minor": 5
}
