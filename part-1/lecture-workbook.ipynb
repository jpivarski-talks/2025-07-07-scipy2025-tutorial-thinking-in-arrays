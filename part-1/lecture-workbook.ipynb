{
 "cells": [
  {
   "cell_type": "code",
   "execution_count": null,
   "id": "911a0cf3-d721-4af4-9db1-d9a584967e36",
   "metadata": {
    "tags": []
   },
   "outputs": [],
   "source": [
    "import numpy as np\n",
    "import matplotlib.pyplot as plt"
   ]
  },
  {
   "cell_type": "code",
   "execution_count": null,
   "id": "f667560b-363d-4a05-ba4c-c5313d61f609",
   "metadata": {},
   "outputs": [],
   "source": [
    "t = np.linspace(0, 2*np.pi, 10000)\n",
    "x = np.sin(3*t)\n",
    "y = np.sin(4*t)"
   ]
  },
  {
   "cell_type": "code",
   "execution_count": null,
   "id": "57f9ab2e-1f5a-426a-b45e-a959ed294f99",
   "metadata": {
    "slideshow": {
     "slide_type": "slide"
    },
    "tags": []
   },
   "outputs": [],
   "source": [
    "plt.plot(x, y);"
   ]
  },
  {
   "cell_type": "markdown",
   "id": "2184a1d1-17fb-448b-bb12-40dbb5f688e2",
   "metadata": {},
   "source": [
    "<br><br><br>"
   ]
  },
  {
   "cell_type": "markdown",
   "id": "0b1156af-fef6-4d82-aaa6-29e2454c43d8",
   "metadata": {},
   "source": [
    "Hint: the main steps of most array-oriented problems involve\n",
    "* slicing arrays to align relevant parts\n",
    "* mapping a single mathematical operation across all elements of equal-sized arrays\n",
    "* reducing an array to a scalar."
   ]
  },
  {
   "cell_type": "markdown",
   "id": "40c6e619-5578-47dd-a361-037a14646beb",
   "metadata": {},
   "source": [
    "<br><br><br>"
   ]
  },
  {
   "cell_type": "markdown",
   "id": "25f2a881-6203-4d87-bddf-35fbdc36f6ec",
   "metadata": {},
   "source": [
    "The formula for the length of a line segment is\n",
    "\n",
    "![](../img/length-by-segment.svg)\n",
    "\n",
    "You need to find the length of the whole line given by `x` and `y`."
   ]
  },
  {
   "cell_type": "code",
   "execution_count": null,
   "id": "b43c9613-4fbd-4568-88eb-edb70ea581f1",
   "metadata": {},
   "outputs": [],
   "source": []
  },
  {
   "cell_type": "code",
   "execution_count": null,
   "id": "86445823-2853-4bd6-9f9a-b0b71b0325d2",
   "metadata": {},
   "outputs": [],
   "source": []
  },
  {
   "cell_type": "code",
   "execution_count": null,
   "id": "5976201b-ebf8-481b-906c-9bc33c988fd6",
   "metadata": {},
   "outputs": [],
   "source": []
  }
 ],
 "metadata": {
  "kernelspec": {
   "display_name": "Python 3 (ipykernel)",
   "language": "python",
   "name": "python3"
  },
  "language_info": {
   "codemirror_mode": {
    "name": "ipython",
    "version": 3
   },
   "file_extension": ".py",
   "mimetype": "text/x-python",
   "name": "python",
   "nbconvert_exporter": "python",
   "pygments_lexer": "ipython3",
   "version": "3.12.11"
  }
 },
 "nbformat": 4,
 "nbformat_minor": 5
}
